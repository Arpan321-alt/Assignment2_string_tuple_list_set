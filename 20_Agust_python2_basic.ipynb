{
 "cells": [
  {
   "cell_type": "code",
   "execution_count": 6,
   "id": "1c51b95b",
   "metadata": {},
   "outputs": [
    {
     "name": "stdout",
     "output_type": "stream",
     "text": [
      "{2, 3, 5, 7, 11}\n"
     ]
    }
   ],
   "source": [
    "#21.\n",
    "k=set()\n",
    "j=2\n",
    "m=0\n",
    "count=0\n",
    "while m!=5:\n",
    "    for i in range(2,j+1):\n",
    "        if j%i==0:\n",
    "            count=count+1\n",
    "    if count==1:\n",
    "        k.add(j)\n",
    "        m=m+1\n",
    "    count=0\n",
    "    j=j+1\n",
    "    \n",
    "print(k)"
   ]
  },
  {
   "cell_type": "code",
   "execution_count": 10,
   "id": "5e6ff68b",
   "metadata": {},
   "outputs": [
    {
     "name": "stdout",
     "output_type": "stream",
     "text": [
      "True\n"
     ]
    }
   ],
   "source": [
    "#22.\n",
    "set1={1,2,3}\n",
    "set2={1,2,3}\n",
    "if set1==set2:\n",
    "    print(True)\n",
    "else:\n",
    "    print(False)"
   ]
  },
  {
   "cell_type": "code",
   "execution_count": 11,
   "id": "275a6bf2",
   "metadata": {},
   "outputs": [
    {
     "data": {
      "text/plain": [
       "frozenset({1, 2, 3})"
      ]
     },
     "execution_count": 11,
     "metadata": {},
     "output_type": "execute_result"
    }
   ],
   "source": [
    "#23.\n",
    "frozenset(set1)"
   ]
  },
  {
   "cell_type": "code",
   "execution_count": 12,
   "id": "82d15647",
   "metadata": {},
   "outputs": [
    {
     "name": "stdout",
     "output_type": "stream",
     "text": [
      "its a disjoint set\n"
     ]
    }
   ],
   "source": [
    "#24.\n",
    "set1={1,2,3}\n",
    "set3={4,5,6}\n",
    "if set1==set3:\n",
    "    print('its not a disjoint set')\n",
    "else:\n",
    "    print('its a disjoint set')\n",
    "    "
   ]
  },
  {
   "cell_type": "code",
   "execution_count": 13,
   "id": "3270943c",
   "metadata": {},
   "outputs": [
    {
     "name": "stdout",
     "output_type": "stream",
     "text": [
      "{1, 4, 9, 16, 25}\n"
     ]
    }
   ],
   "source": [
    "#25.\n",
    "set1=set()\n",
    "for i in range(1,6):\n",
    "    set1.add(i**2)\n",
    "print(set1)"
   ]
  },
  {
   "cell_type": "code",
   "execution_count": 16,
   "id": "7679d894",
   "metadata": {},
   "outputs": [
    {
     "name": "stdout",
     "output_type": "stream",
     "text": [
      "{2, 4, 6, 8, 10}\n"
     ]
    }
   ],
   "source": [
    "#26.\n",
    "set1={2,4,6,8,9,10}\n",
    "k=set()\n",
    "for i in set1:\n",
    "    if i%2==0:\n",
    "        k.add(i)\n",
    "print(k)"
   ]
  },
  {
   "cell_type": "code",
   "execution_count": 20,
   "id": "eb906e38",
   "metadata": {},
   "outputs": [
    {
     "name": "stdout",
     "output_type": "stream",
     "text": [
      "{8, 2, 4, 6}\n"
     ]
    }
   ],
   "source": [
    "#27.\n",
    "set1={1,2,3,4}\n",
    "f=set()\n",
    "for i in set1:\n",
    "    f.add(i*2)\n",
    "print(f)"
   ]
  },
  {
   "cell_type": "code",
   "execution_count": 23,
   "id": "ece110cc",
   "metadata": {},
   "outputs": [
    {
     "name": "stdout",
     "output_type": "stream",
     "text": [
      "{2, 5, 6, 10, 13, 14, 20}\n"
     ]
    }
   ],
   "source": [
    "#28.\n",
    "import random\n",
    "k=set()\n",
    "for i in range(8):\n",
    "    f=random.randint(1,20)\n",
    "    k.add(f)\n",
    "print(k)"
   ]
  },
  {
   "cell_type": "code",
   "execution_count": 25,
   "id": "47d83ce4",
   "metadata": {},
   "outputs": [
    {
     "name": "stdout",
     "output_type": "stream",
     "text": [
      "its empty\n"
     ]
    }
   ],
   "source": [
    "#29.\n",
    "k=set()\n",
    "if len(k)==0:\n",
    "    print('its empty')\n",
    "else:\n",
    "    print('its not empty')"
   ]
  },
  {
   "cell_type": "code",
   "execution_count": 27,
   "id": "4c6e4794",
   "metadata": {},
   "outputs": [
    {
     "name": "stdout",
     "output_type": "stream",
     "text": [
      "{frozenset({3, 4}), frozenset({1, 2})}\n"
     ]
    }
   ],
   "source": [
    "#30.\n",
    "s = set([frozenset([1,2]), frozenset([3,4])])\n",
    "print(s)\n"
   ]
  },
  {
   "cell_type": "code",
   "execution_count": 28,
   "id": "47de7927",
   "metadata": {},
   "outputs": [
    {
     "data": {
      "text/plain": [
       "{1, 3, 4, 5}"
      ]
     },
     "execution_count": 28,
     "metadata": {},
     "output_type": "execute_result"
    }
   ],
   "source": [
    "#31.\n",
    "set1={1,2,3,4,5}\n",
    "set1.discard(2)\n",
    "set1"
   ]
  },
  {
   "cell_type": "code",
   "execution_count": 29,
   "id": "041f77df",
   "metadata": {},
   "outputs": [
    {
     "name": "stdout",
     "output_type": "stream",
     "text": [
      "yes length of set1 and set are same\n",
      "sorry set1 and set2 are not same\n"
     ]
    }
   ],
   "source": [
    "#32.\n",
    "set1={1,2,3}\n",
    "set2={4,5,6}\n",
    "if len(set1)==len(set2):\n",
    "    print('yes length of set1 and set are same')\n",
    "else:\n",
    "    print('no length of set1 and set2 are not same')\n",
    "if set1==set2:\n",
    "    print('set1 and set2 both are same')\n",
    "else:\n",
    "    print('sorry set1 and set2 are not same')\n",
    "    "
   ]
  },
  {
   "cell_type": "code",
   "execution_count": 36,
   "id": "38ceb9c4",
   "metadata": {},
   "outputs": [
    {
     "name": "stdout",
     "output_type": "stream",
     "text": [
      "{'4', '3', '5', '1', '2'}\n"
     ]
    }
   ],
   "source": [
    "#33.\n",
    "s='1 2 3 4 5'\n",
    "f=set(s)\n",
    "f.discard(' ')\n",
    "print(f)"
   ]
  },
  {
   "cell_type": "code",
   "execution_count": 40,
   "id": "7249a895",
   "metadata": {},
   "outputs": [
    {
     "name": "stdout",
     "output_type": "stream",
     "text": [
      "{1, 2, 3, 4, 5}\n"
     ]
    }
   ],
   "source": [
    "#34.\n",
    "k=set()\n",
    "for i in f:\n",
    "    k.add(int(i))\n",
    "print(k)"
   ]
  },
  {
   "cell_type": "code",
   "execution_count": 41,
   "id": "18598e1c",
   "metadata": {},
   "outputs": [
    {
     "name": "stdout",
     "output_type": "stream",
     "text": [
      "{'3', '5', '1', '2', '4'}\n"
     ]
    }
   ],
   "source": [
    "#35.\n",
    "m=set()\n",
    "for i in k:\n",
    "    m.add(str(i))\n",
    "print(m)"
   ]
  },
  {
   "cell_type": "code",
   "execution_count": 42,
   "id": "f116bdc6",
   "metadata": {},
   "outputs": [
    {
     "name": "stdout",
     "output_type": "stream",
     "text": [
      "{1, 2, 3, 4}\n"
     ]
    }
   ],
   "source": [
    "#36.\n",
    "tup=(1,2,3,4)\n",
    "s=set(tup)\n",
    "print(s)"
   ]
  },
  {
   "cell_type": "code",
   "execution_count": 43,
   "id": "d8cb7877",
   "metadata": {},
   "outputs": [
    {
     "name": "stdout",
     "output_type": "stream",
     "text": [
      "(1, 2, 3, 4)\n"
     ]
    }
   ],
   "source": [
    "#37.\n",
    "tup=tuple(s)\n",
    "print(tup)"
   ]
  },
  {
   "cell_type": "code",
   "execution_count": 44,
   "id": "26866357",
   "metadata": {},
   "outputs": [
    {
     "name": "stdout",
     "output_type": "stream",
     "text": [
      "4\n"
     ]
    }
   ],
   "source": [
    "#38. s={1,2,3,4}\n",
    "print(max(s))"
   ]
  },
  {
   "cell_type": "code",
   "execution_count": 45,
   "id": "677b3b17",
   "metadata": {},
   "outputs": [
    {
     "name": "stdout",
     "output_type": "stream",
     "text": [
      "1\n"
     ]
    }
   ],
   "source": [
    "#39.\n",
    "print(min(s))"
   ]
  },
  {
   "cell_type": "code",
   "execution_count": 46,
   "id": "2b2dc48f",
   "metadata": {},
   "outputs": [
    {
     "name": "stdout",
     "output_type": "stream",
     "text": [
      "1\n",
      "{1}\n"
     ]
    }
   ],
   "source": [
    "#40.\n",
    "k=set()\n",
    "user=int(input())\n",
    "k.add(user)\n",
    "print(k)"
   ]
  },
  {
   "cell_type": "code",
   "execution_count": 53,
   "id": "9c3a0aa0",
   "metadata": {},
   "outputs": [
    {
     "name": "stdout",
     "output_type": "stream",
     "text": [
      "True\n"
     ]
    }
   ],
   "source": [
    "#41.\n",
    "s1={7,0,9,5}\n",
    "s2={2,3,4,1}\n",
    "if len(s1.intersection(s2)) == 0:\n",
    "    print(True)\n",
    "else:\n",
    "    print(False)\n"
   ]
  },
  {
   "cell_type": "code",
   "execution_count": 56,
   "id": "960c7c6b",
   "metadata": {},
   "outputs": [
    {
     "name": "stdout",
     "output_type": "stream",
     "text": [
      "{1, 2, 3, 5, 8, 13, 21}\n"
     ]
    }
   ],
   "source": [
    "#42.\n",
    "k=set()\n",
    "a=1\n",
    "b=0\n",
    "for i in range(7):\n",
    "    a=a+b\n",
    "    k.add(a)\n",
    "    b=a-b\n",
    "print(k)"
   ]
  },
  {
   "cell_type": "code",
   "execution_count": 57,
   "id": "83061eeb",
   "metadata": {},
   "outputs": [
    {
     "name": "stdout",
     "output_type": "stream",
     "text": [
      "{1, 2, 3, 4, 5}\n"
     ]
    }
   ],
   "source": [
    "#43.\n",
    "lst=[1,1,2,2,3,4,5,5]\n",
    "set1=set(lst)\n",
    "print(set1)"
   ]
  },
  {
   "cell_type": "code",
   "execution_count": 58,
   "id": "8e1321d5",
   "metadata": {},
   "outputs": [
    {
     "name": "stdout",
     "output_type": "stream",
     "text": [
      "its same elements\n"
     ]
    }
   ],
   "source": [
    "#44.\n",
    "set1={1,2,3,4,5}\n",
    "set2={1,2,3,4,5}\n",
    "if set1==set2:\n",
    "    print('its same elements')\n",
    "else:\n",
    "    print('no its not a same elements')"
   ]
  },
  {
   "cell_type": "code",
   "execution_count": 59,
   "id": "6401d0e9",
   "metadata": {},
   "outputs": [
    {
     "name": "stdout",
     "output_type": "stream",
     "text": [
      "{1, 2, 4, 8, 16}\n"
     ]
    }
   ],
   "source": [
    "#45.\n",
    "set1=set()\n",
    "n=5\n",
    "for i in range(n):\n",
    "    set1.add(2**i)\n",
    "print(set1)"
   ]
  },
  {
   "cell_type": "code",
   "execution_count": 60,
   "id": "6ddde2e1",
   "metadata": {},
   "outputs": [
    {
     "name": "stdout",
     "output_type": "stream",
     "text": [
      "{2, 3, 4}\n"
     ]
    }
   ],
   "source": [
    "#46.\n",
    "lst=[1,2,3,4,5]\n",
    "set1={2,3,4,9,8}\n",
    "k=set(lst)\n",
    "m=k.intersection(set1)\n",
    "print(m)"
   ]
  },
  {
   "cell_type": "code",
   "execution_count": 61,
   "id": "c0a0d2db",
   "metadata": {},
   "outputs": [
    {
     "name": "stdout",
     "output_type": "stream",
     "text": [
      "{1, 3, 6, 10, 15}\n"
     ]
    }
   ],
   "source": [
    "#47.\n",
    "num=5\n",
    "j=0\n",
    "set1=set()\n",
    "for i in range(1,num+1):\n",
    "    j=j+i\n",
    "    set1.add(j)\n",
    "print(set1)"
   ]
  },
  {
   "cell_type": "code",
   "execution_count": 67,
   "id": "c4a7acd1",
   "metadata": {},
   "outputs": [
    {
     "data": {
      "text/plain": [
       "True"
      ]
     },
     "execution_count": 67,
     "metadata": {},
     "output_type": "execute_result"
    }
   ],
   "source": [
    "#48.\n",
    "set1={1,2,3,4,5}\n",
    "set2={1,2,3}\n",
    "set2.issubset(set1)"
   ]
  },
  {
   "cell_type": "code",
   "execution_count": 70,
   "id": "12d82c18",
   "metadata": {},
   "outputs": [
    {
     "name": "stdout",
     "output_type": "stream",
     "text": [
      "{0, 1}\n"
     ]
    }
   ],
   "source": [
    "#49.\n",
    "num=5\n",
    "k=set()                  #set does not contains duplicates values so its only return 0 and 1 single time\n",
    "for i in range(num):\n",
    "    if i%2==0:\n",
    "        k.add(0)\n",
    "    else:\n",
    "        k.add(1)\n",
    "print(k)"
   ]
  },
  {
   "cell_type": "code",
   "execution_count": 78,
   "id": "ef1638c9",
   "metadata": {},
   "outputs": [
    {
     "name": "stdout",
     "output_type": "stream",
     "text": [
      "{0, 1, 2, 3, 4, 5, 6, 8, 9}\n"
     ]
    }
   ],
   "source": [
    "#50.\n",
    "set1={1,2,3}\n",
    "set2={4,5,6}\n",
    "set3={8,9,0}\n",
    "set2.update(set3)\n",
    "set1.update(set2)\n",
    "print(set1)"
   ]
  },
  {
   "cell_type": "code",
   "execution_count": null,
   "id": "807a4dd6",
   "metadata": {},
   "outputs": [],
   "source": []
  }
 ],
 "metadata": {
  "kernelspec": {
   "display_name": "Python 3 (ipykernel)",
   "language": "python",
   "name": "python3"
  },
  "language_info": {
   "codemirror_mode": {
    "name": "ipython",
    "version": 3
   },
   "file_extension": ".py",
   "mimetype": "text/x-python",
   "name": "python",
   "nbconvert_exporter": "python",
   "pygments_lexer": "ipython3",
   "version": "3.11.4"
  }
 },
 "nbformat": 4,
 "nbformat_minor": 5
}
