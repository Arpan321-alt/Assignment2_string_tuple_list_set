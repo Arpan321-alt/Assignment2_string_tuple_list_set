{
 "cells": [
  {
   "cell_type": "code",
   "execution_count": 1,
   "id": "799b0987",
   "metadata": {},
   "outputs": [
    {
     "name": "stdout",
     "output_type": "stream",
     "text": [
      "[1, 4, 9, 16, 25]\n"
     ]
    }
   ],
   "source": [
    "#36.\n",
    "l=[1,2,3,4,5]\n",
    "new_list=[]\n",
    "for i in l:\n",
    "    new_list.append(i**2)\n",
    "print(new_list)"
   ]
  },
  {
   "cell_type": "code",
   "execution_count": 2,
   "id": "44039e74",
   "metadata": {},
   "outputs": [
    {
     "name": "stdout",
     "output_type": "stream",
     "text": [
      "{1: 0, 2: 1, 3: 2, 4: 3, 5: 4}\n"
     ]
    }
   ],
   "source": [
    "#37.\n",
    "l=[1,2,3,4,5]\n",
    "dic={}\n",
    "for i in range(len(l)):\n",
    "    dic[l[i]]=i\n",
    "print(dic)"
   ]
  },
  {
   "cell_type": "code",
   "execution_count": 3,
   "id": "3153900a",
   "metadata": {},
   "outputs": [
    {
     "name": "stdout",
     "output_type": "stream",
     "text": [
      "[4, 3, 2, 1, 5]\n"
     ]
    }
   ],
   "source": [
    "#38.\n",
    "import random\n",
    "l=[1,2,3,4,5]\n",
    "random.shuffle(l)\n",
    "print(l)"
   ]
  },
  {
   "cell_type": "code",
   "execution_count": 4,
   "id": "7275fcaa",
   "metadata": {},
   "outputs": [
    {
     "name": "stdout",
     "output_type": "stream",
     "text": [
      "3\n",
      "5\n"
     ]
    }
   ],
   "source": [
    "#39.\n",
    "num=15\n",
    "j=2\n",
    "while num!=1:\n",
    "    if num%j==0:\n",
    "        print(j)\n",
    "        num=num/j\n",
    "    else:\n",
    "        j=j+1\n"
   ]
  },
  {
   "cell_type": "code",
   "execution_count": 5,
   "id": "b746a8b8",
   "metadata": {},
   "outputs": [
    {
     "name": "stdout",
     "output_type": "stream",
     "text": [
      "{1: [], 2: [2], 3: [3], 4: [2, 2], 5: [5], 6: [2, 3], 7: [7], 8: [2, 2, 2], 9: [3, 3], 10: [2, 5]}\n"
     ]
    }
   ],
   "source": [
    "#39.\n",
    "dic={}\n",
    "for num in range(1,11):\n",
    "    j=2\n",
    "    l=[]\n",
    "    c=num\n",
    "    while num!=1:\n",
    "        if num%j==0:\n",
    "            l.append(j)\n",
    "            num=num/j\n",
    "        else:\n",
    "            j=j+1\n",
    "    dic[c]=l\n",
    "print(dic)"
   ]
  },
  {
   "cell_type": "code",
   "execution_count": 6,
   "id": "fe37d0ed",
   "metadata": {},
   "outputs": [
    {
     "name": "stdout",
     "output_type": "stream",
     "text": [
      "yes at lease one element is common\n"
     ]
    }
   ],
   "source": [
    "#40.\n",
    "l1=[1,2,3,4,5]\n",
    "l2=[4,6,7,3,2]\n",
    "s1=set(l1)\n",
    "s2=set(l2)\n",
    "s3=s1.intersection(s2)\n",
    "if len(list(s3))>=1:\n",
    "    print('yes at lease one element is common')\n",
    "else:\n",
    "    print('no')"
   ]
  },
  {
   "cell_type": "code",
   "execution_count": 7,
   "id": "d96f4b46",
   "metadata": {},
   "outputs": [
    {
     "name": "stdout",
     "output_type": "stream",
     "text": [
      "[]\n"
     ]
    }
   ],
   "source": [
    "#41.\n",
    "l1=[1,2,3,4]\n",
    "l1.clear()\n",
    "print(l1)"
   ]
  },
  {
   "cell_type": "code",
   "execution_count": 8,
   "id": "a692a6f8",
   "metadata": {},
   "outputs": [
    {
     "name": "stdout",
     "output_type": "stream",
     "text": [
      "[0, 3, 0, 4, 5, 0]\n"
     ]
    }
   ],
   "source": [
    "#42.\n",
    "l=[-2,3,-1,4,5,-6]\n",
    "for i in range(len(l)):\n",
    "    if l[i]<0:\n",
    "        l.remove(l[i])\n",
    "        l.insert(i,0)\n",
    "print(l)"
   ]
  },
  {
   "cell_type": "code",
   "execution_count": 9,
   "id": "70054460",
   "metadata": {},
   "outputs": [
    {
     "name": "stdout",
     "output_type": "stream",
     "text": [
      "['my', 'name', 'is', 'arpan']\n"
     ]
    }
   ],
   "source": [
    "#43.\n",
    "st='my name is arpan'\n",
    "k=st.split()\n",
    "print(k)"
   ]
  },
  {
   "cell_type": "code",
   "execution_count": 10,
   "id": "75c7e087",
   "metadata": {},
   "outputs": [
    {
     "name": "stdout",
     "output_type": "stream",
     "text": [
      "my name is ashish\n"
     ]
    }
   ],
   "source": [
    "#44.\n",
    "ls=['my', 'name', 'is', 'ashish']\n",
    "k=' '.join(ls)\n",
    "print(k)\n"
   ]
  },
  {
   "cell_type": "code",
   "execution_count": 11,
   "id": "4252bc2b",
   "metadata": {},
   "outputs": [
    {
     "name": "stdout",
     "output_type": "stream",
     "text": [
      "8\n",
      "8\n"
     ]
    }
   ],
   "source": [
    "#45.\n",
    "n=3\n",
    "k=1\n",
    "for i in range(1,n+1):\n",
    "    k=k*2\n",
    "print(k)\n",
    "print(2**3)"
   ]
  },
  {
   "cell_type": "code",
   "execution_count": 12,
   "id": "1a338a8e",
   "metadata": {},
   "outputs": [
    {
     "name": "stdout",
     "output_type": "stream",
     "text": [
      "vishakapatnam 13\n"
     ]
    }
   ],
   "source": [
    "#46.\n",
    "ls=['word','fight','vishakapatnam','Trivantipuram']\n",
    "max1=0\n",
    "c=0\n",
    "for i in range(len(ls)):\n",
    "    if max1<len(ls[i]):\n",
    "        max1=len(ls[i])\n",
    "        c=i\n",
    "print(ls[c],max1)"
   ]
  },
  {
   "cell_type": "code",
   "execution_count": 13,
   "id": "a9dcacba",
   "metadata": {},
   "outputs": [
    {
     "name": "stdout",
     "output_type": "stream",
     "text": [
      "bho 3\n"
     ]
    }
   ],
   "source": [
    "#47.\n",
    "ls=['word','fight','vishakapatnam','Trivantipuram','bho']\n",
    "min1=len(ls[0])\n",
    "c=0\n",
    "for i in range(len(ls)):\n",
    "    if min1>len(ls[i]):\n",
    "        min1=len(ls[i])\n",
    "        c=i\n",
    "print(ls[c],min1)"
   ]
  },
  {
   "cell_type": "code",
   "execution_count": 14,
   "id": "b6ecbb17",
   "metadata": {},
   "outputs": [
    {
     "name": "stdout",
     "output_type": "stream",
     "text": [
      "[1, 3, 6, 10, 15]\n"
     ]
    }
   ],
   "source": [
    "#48.\n",
    "j=0\n",
    "l=[]\n",
    "for i in range(1,6):\n",
    "    j=j+i\n",
    "    l.append(j)\n",
    "print(l)"
   ]
  },
  {
   "cell_type": "code",
   "execution_count": 15,
   "id": "0701cfd3",
   "metadata": {},
   "outputs": [
    {
     "name": "stdout",
     "output_type": "stream",
     "text": [
      "[1, 2, 3, 5, 7]\n"
     ]
    }
   ],
   "source": [
    "#50.\n",
    "lst=[1,3,2,5,7]\n",
    "i=1\n",
    "j=2\n",
    "temp=lst[i]\n",
    "lst[i]=lst[j]\n",
    "lst[j]=temp\n",
    "print(lst)"
   ]
  },
  {
   "cell_type": "markdown",
   "id": "7b4008f8",
   "metadata": {},
   "source": [
    "# Tuple"
   ]
  },
  {
   "cell_type": "code",
   "execution_count": 16,
   "id": "12c6ade5",
   "metadata": {},
   "outputs": [
    {
     "name": "stdout",
     "output_type": "stream",
     "text": [
      "(1, 2, 3, 4, 5)\n",
      "<class 'tuple'>\n"
     ]
    }
   ],
   "source": [
    "#1.\n",
    "k=1,2,3,4,5\n",
    "print(k)\n",
    "print(type(k))"
   ]
  },
  {
   "cell_type": "code",
   "execution_count": 17,
   "id": "74f52cca",
   "metadata": {},
   "outputs": [
    {
     "name": "stdout",
     "output_type": "stream",
     "text": [
      "3\n"
     ]
    }
   ],
   "source": [
    "#2\n",
    "print(k[2])"
   ]
  },
  {
   "cell_type": "code",
   "execution_count": 18,
   "id": "3b7aef91",
   "metadata": {},
   "outputs": [
    {
     "name": "stdout",
     "output_type": "stream",
     "text": [
      "4\n",
      "<class 'tuple'>\n"
     ]
    }
   ],
   "source": [
    "#3\n",
    "k=(1,2,3,4)\n",
    "count=0\n",
    "for i in k:\n",
    "    count=count+1\n",
    "print(count)\n",
    "print(type(k))"
   ]
  },
  {
   "cell_type": "code",
   "execution_count": 19,
   "id": "c39d8d2c",
   "metadata": {},
   "outputs": [
    {
     "data": {
      "text/plain": [
       "1"
      ]
     },
     "execution_count": 19,
     "metadata": {},
     "output_type": "execute_result"
    }
   ],
   "source": [
    "#4.\n",
    "n=2\n",
    "k.count(n)"
   ]
  },
  {
   "cell_type": "code",
   "execution_count": 20,
   "id": "9b8b6076",
   "metadata": {},
   "outputs": [
    {
     "data": {
      "text/plain": [
       "0"
      ]
     },
     "execution_count": 20,
     "metadata": {},
     "output_type": "execute_result"
    }
   ],
   "source": [
    "#5.\n",
    "k.index(1)"
   ]
  },
  {
   "cell_type": "code",
   "execution_count": 21,
   "id": "aaeaf348",
   "metadata": {},
   "outputs": [
    {
     "name": "stdout",
     "output_type": "stream",
     "text": [
      "True\n"
     ]
    }
   ],
   "source": [
    "#6.\n",
    "ele=4\n",
    "if ele in k:\n",
    "    print(True)\n",
    "else:\n",
    "    print(False)"
   ]
  },
  {
   "cell_type": "code",
   "execution_count": 22,
   "id": "f9e9dabc",
   "metadata": {},
   "outputs": [
    {
     "name": "stdout",
     "output_type": "stream",
     "text": [
      "[1, 2, 3, 4]\n"
     ]
    }
   ],
   "source": [
    "#7.\n",
    "lst=list(k)\n",
    "print(lst)"
   ]
  },
  {
   "cell_type": "code",
   "execution_count": 23,
   "id": "3aa2a9c7",
   "metadata": {},
   "outputs": [
    {
     "name": "stdout",
     "output_type": "stream",
     "text": [
      "(1, 2, 3, 4)\n"
     ]
    }
   ],
   "source": [
    "#8.\n",
    "tup=tuple(lst)\n",
    "print(tup)"
   ]
  },
  {
   "cell_type": "code",
   "execution_count": 24,
   "id": "438a9bf0",
   "metadata": {},
   "outputs": [
    {
     "name": "stdout",
     "output_type": "stream",
     "text": [
      "1\n",
      "2\n",
      "3\n",
      "4\n",
      "----\n",
      "1\n",
      "2\n",
      "[3, 4]\n",
      "----\n",
      "1\n",
      "2\n",
      "3\n",
      "4\n",
      "---\n",
      "1\n",
      "2\n",
      "[3, 4]\n"
     ]
    }
   ],
   "source": [
    "#9.\n",
    "a,b,c,d=tup\n",
    "print(a)\n",
    "print(b)\n",
    "print(c)\n",
    "print(d)\n",
    "#or\n",
    "print('----')\n",
    "a,b,*c=tup\n",
    "print(a)\n",
    "print(b)\n",
    "print(c)\n",
    "#or\n",
    "print('----')\n",
    "a,b,c,_=tup\n",
    "print(a)\n",
    "print(b)\n",
    "print(c)\n",
    "print(_)\n",
    "#or\n",
    "print('---')\n",
    "a,b,*_=tup\n",
    "print(a)\n",
    "print(b)\n",
    "print(_)"
   ]
  },
  {
   "cell_type": "code",
   "execution_count": 25,
   "id": "18b9ae8a",
   "metadata": {},
   "outputs": [
    {
     "name": "stdout",
     "output_type": "stream",
     "text": [
      "(2, 4, 6, 8, 10)\n"
     ]
    }
   ],
   "source": [
    "#10.\n",
    "k=[i for i in range(1,11) if i%2==0]\n",
    "print(tuple(k))"
   ]
  },
  {
   "cell_type": "code",
   "execution_count": 26,
   "id": "a72b2325",
   "metadata": {},
   "outputs": [
    {
     "name": "stdout",
     "output_type": "stream",
     "text": [
      "(1, 3, 5, 7, 9)\n"
     ]
    }
   ],
   "source": [
    "#11.\n",
    "k=[i for i in range(1,11) if i%2!=0]\n",
    "print(tuple(k))"
   ]
  },
  {
   "cell_type": "code",
   "execution_count": 27,
   "id": "9eb71333",
   "metadata": {},
   "outputs": [
    {
     "name": "stdout",
     "output_type": "stream",
     "text": [
      "(1, 2, 3, 4, 4, 5)\n"
     ]
    }
   ],
   "source": [
    "#12\n",
    "tup1=(1,2,3)\n",
    "tup2=(4,4,5)\n",
    "tup3=tup1+tup2\n",
    "print(tup3)"
   ]
  },
  {
   "cell_type": "code",
   "execution_count": 28,
   "id": "d1c14e5e",
   "metadata": {},
   "outputs": [
    {
     "name": "stdout",
     "output_type": "stream",
     "text": [
      "(1, 2, 3, 1, 2, 3, 1, 2, 3)\n"
     ]
    }
   ],
   "source": [
    "#13.\n",
    "print(tup1*3)"
   ]
  },
  {
   "cell_type": "code",
   "execution_count": 29,
   "id": "5a8dc82a",
   "metadata": {},
   "outputs": [
    {
     "name": "stdout",
     "output_type": "stream",
     "text": [
      "False\n"
     ]
    }
   ],
   "source": [
    "#14.\n",
    "tup4=(1,)\n",
    "if len(tup4)==0:\n",
    "    print(True)\n",
    "else:\n",
    "    print(False)"
   ]
  },
  {
   "cell_type": "code",
   "execution_count": 30,
   "id": "57d6799c",
   "metadata": {},
   "outputs": [
    {
     "name": "stdout",
     "output_type": "stream",
     "text": [
      "((1, 2, 3), 4, 5, 6)\n"
     ]
    }
   ],
   "source": [
    "#15.\n",
    "lst=[[1,2,3],4,5,6]\n",
    "for i in range(len(lst)):\n",
    "    if type(lst[i])==list:\n",
    "        c=lst[i]\n",
    "        lst.remove(lst[i])\n",
    "        lst.insert(i,tuple(c))\n",
    "tup=tuple(lst)\n",
    "print(tup)"
   ]
  },
  {
   "cell_type": "code",
   "execution_count": 31,
   "id": "1ffdc707",
   "metadata": {},
   "outputs": [
    {
     "data": {
      "text/plain": [
       "1"
      ]
     },
     "execution_count": 31,
     "metadata": {},
     "output_type": "execute_result"
    }
   ],
   "source": [
    "#16.\n",
    "tup[0][0]"
   ]
  },
  {
   "cell_type": "code",
   "execution_count": 32,
   "id": "74fa2b84",
   "metadata": {},
   "outputs": [
    {
     "name": "stdout",
     "output_type": "stream",
     "text": [
      "(1,)\n",
      "<class 'tuple'>\n"
     ]
    }
   ],
   "source": [
    "#17.\n",
    "k=1,\n",
    "print(k)\n",
    "print(type(k))"
   ]
  },
  {
   "cell_type": "code",
   "execution_count": 33,
   "id": "8ef580bb",
   "metadata": {},
   "outputs": [
    {
     "name": "stdout",
     "output_type": "stream",
     "text": [
      "True\n"
     ]
    }
   ],
   "source": [
    "#18.\n",
    "tup=1,2,3\n",
    "tup2=4,3,2\n",
    "if len(tup)==len(tup2):\n",
    "    print(True)\n",
    "else:\n",
    "    print(False)"
   ]
  },
  {
   "cell_type": "code",
   "execution_count": 34,
   "id": "408a85a9",
   "metadata": {},
   "outputs": [
    {
     "name": "stdout",
     "output_type": "stream",
     "text": [
      "(4, 3, 2)\n"
     ]
    },
    {
     "ename": "NameError",
     "evalue": "name 'tup' is not defined",
     "output_type": "error",
     "traceback": [
      "\u001b[1;31m---------------------------------------------------------------------------\u001b[0m",
      "\u001b[1;31mNameError\u001b[0m                                 Traceback (most recent call last)",
      "Cell \u001b[1;32mIn[34], line 4\u001b[0m\n\u001b[0;32m      2\u001b[0m \u001b[38;5;28mprint\u001b[39m(tup2)\n\u001b[0;32m      3\u001b[0m \u001b[38;5;28;01mdel\u001b[39;00m tup\n\u001b[1;32m----> 4\u001b[0m \u001b[38;5;28mprint\u001b[39m(tup)\n",
      "\u001b[1;31mNameError\u001b[0m: name 'tup' is not defined"
     ]
    }
   ],
   "source": [
    "#19.\n",
    "print(tup2)\n",
    "del tup\n",
    "print(tup)\n"
   ]
  },
  {
   "cell_type": "code",
   "execution_count": 35,
   "id": "3341d53f",
   "metadata": {},
   "outputs": [
    {
     "name": "stdout",
     "output_type": "stream",
     "text": [
      "(4, 3)\n"
     ]
    }
   ],
   "source": [
    "#20.\n",
    "print(tup2[0:2])"
   ]
  },
  {
   "cell_type": "code",
   "execution_count": 36,
   "id": "861a5d91",
   "metadata": {},
   "outputs": [
    {
     "name": "stdout",
     "output_type": "stream",
     "text": [
      "99\n"
     ]
    }
   ],
   "source": [
    "#21.\n",
    "tup3=(1,2,99,5)\n",
    "print(max(tup3))"
   ]
  },
  {
   "cell_type": "code",
   "execution_count": 37,
   "id": "55655a6e",
   "metadata": {},
   "outputs": [
    {
     "name": "stdout",
     "output_type": "stream",
     "text": [
      "1\n"
     ]
    }
   ],
   "source": [
    "#22.\n",
    "print(min(tup3))"
   ]
  },
  {
   "cell_type": "code",
   "execution_count": 38,
   "id": "73d5d12e",
   "metadata": {},
   "outputs": [
    {
     "name": "stdout",
     "output_type": "stream",
     "text": [
      "('m', 'u', ' ', 'n', 'a', 'm', 'e', ' ', 'i', 's', ' ', 'a', 'r', 'p', 'a', 'n')\n"
     ]
    }
   ],
   "source": [
    "#23.\n",
    "s='mu name is arpan'\n",
    "f=tuple(s)\n",
    "print(f)"
   ]
  },
  {
   "cell_type": "code",
   "execution_count": 39,
   "id": "d8ef653d",
   "metadata": {},
   "outputs": [
    {
     "data": {
      "text/plain": [
       "'mu name is arpan'"
      ]
     },
     "execution_count": 39,
     "metadata": {},
     "output_type": "execute_result"
    }
   ],
   "source": [
    "#24.\n",
    "''.join(f)"
   ]
  },
  {
   "cell_type": "code",
   "execution_count": 40,
   "id": "ec0d2cbe",
   "metadata": {},
   "outputs": [
    {
     "name": "stdout",
     "output_type": "stream",
     "text": [
      "(1, 'e', 2.3, '@', True)\n"
     ]
    }
   ],
   "source": [
    "#25.\n",
    "tup=(1,'e',2.3,'@',True)\n",
    "print(tup)"
   ]
  },
  {
   "cell_type": "code",
   "execution_count": 41,
   "id": "c3e2bc96",
   "metadata": {},
   "outputs": [
    {
     "name": "stdout",
     "output_type": "stream",
     "text": [
      "True\n"
     ]
    }
   ],
   "source": [
    "#26.\n",
    "tup1=(1,'e',2.3,'@',True)\n",
    "tup2=(1,2,3,4,5)\n",
    "if tup1==tup:\n",
    "    print(True)\n",
    "else:\n",
    "    print(False)"
   ]
  },
  {
   "cell_type": "code",
   "execution_count": 42,
   "id": "74bc510e",
   "metadata": {},
   "outputs": [
    {
     "name": "stdout",
     "output_type": "stream",
     "text": [
      "(1, 2, 4, 5)\n"
     ]
    }
   ],
   "source": [
    "#27.\n",
    "tup4=(2,1,5,4)\n",
    "k=list(tup4)\n",
    "k.sort()\n",
    "tup4=tuple(k)\n",
    "print(tup4)"
   ]
  },
  {
   "cell_type": "code",
   "execution_count": 43,
   "id": "0761e9be",
   "metadata": {},
   "outputs": [
    {
     "name": "stdout",
     "output_type": "stream",
     "text": [
      "('1', '2', '4', '5')\n"
     ]
    }
   ],
   "source": [
    "#28.\n",
    "k=[]\n",
    "for i in tup4:\n",
    "    k.append(str(i))\n",
    "tup=tuple(k)\n",
    "print(tup)"
   ]
  },
  {
   "cell_type": "code",
   "execution_count": 44,
   "id": "52038e7e",
   "metadata": {},
   "outputs": [
    {
     "name": "stdout",
     "output_type": "stream",
     "text": [
      "(1, 2, 4, 5)\n"
     ]
    }
   ],
   "source": [
    "#29.\n",
    "k=[]\n",
    "for i in tup:\n",
    "    k.append(int(i))\n",
    "tup4=tuple(k)\n",
    "print(tup4)"
   ]
  },
  {
   "cell_type": "code",
   "execution_count": 45,
   "id": "89ee223c",
   "metadata": {},
   "outputs": [
    {
     "name": "stdout",
     "output_type": "stream",
     "text": [
      "(1, 2, 4, 5, '1', '2', '4', '5')\n"
     ]
    }
   ],
   "source": [
    "#30.\n",
    "tup5=tup4+tup\n",
    "print(tup5)"
   ]
  },
  {
   "cell_type": "code",
   "execution_count": 46,
   "id": "464afcc0",
   "metadata": {},
   "outputs": [
    {
     "name": "stdout",
     "output_type": "stream",
     "text": [
      "(1, 2, 3, 4, 5, 6)\n"
     ]
    }
   ],
   "source": [
    "#31.\n",
    "tup=((1,2,3),4,5,6)\n",
    "tup1=()\n",
    "k=[]\n",
    "for i in range(len(tup)):\n",
    "    if type(tup[i])==tuple:\n",
    "        for j in tup[i]:\n",
    "            k.append(j)\n",
    "    else:\n",
    "        k.append(tup[i])\n",
    "print(tuple(k))\n",
    "        "
   ]
  },
  {
   "cell_type": "code",
   "execution_count": 47,
   "id": "52f50c56",
   "metadata": {},
   "outputs": [
    {
     "name": "stdout",
     "output_type": "stream",
     "text": [
      "(1, 3, 5, 7, 11)\n"
     ]
    }
   ],
   "source": [
    "#32.\n",
    "c=(1,3,5,7,11)\n",
    "print(c)"
   ]
  },
  {
   "cell_type": "code",
   "execution_count": 48,
   "id": "5c5cca32",
   "metadata": {},
   "outputs": [
    {
     "name": "stdout",
     "output_type": "stream",
     "text": [
      "its a polindrom number\n"
     ]
    }
   ],
   "source": [
    "#33.\n",
    "c=(1,0,1)\n",
    "k=c[::-1]\n",
    "if k == c:\n",
    "    print('its a polindrom number')\n",
    "else:\n",
    "    print('its not a polindrome number')"
   ]
  },
  {
   "cell_type": "code",
   "execution_count": 49,
   "id": "2d92bc90",
   "metadata": {},
   "outputs": [
    {
     "name": "stdout",
     "output_type": "stream",
     "text": [
      "(1, 4, 9, 16, 25)\n"
     ]
    }
   ],
   "source": [
    "#34.\n",
    "c=(1,2,3,4,5)\n",
    "k=[]\n",
    "for i in c:\n",
    "    k.append(i**2)\n",
    "print(tuple(k))"
   ]
  },
  {
   "cell_type": "code",
   "execution_count": 50,
   "id": "828c8593",
   "metadata": {},
   "outputs": [
    {
     "name": "stdout",
     "output_type": "stream",
     "text": [
      "[2, 4, 6]\n"
     ]
    }
   ],
   "source": [
    "#35.\n",
    "c=(1,2,3,4,5,6)\n",
    "k=[]\n",
    "for i in c:\n",
    "    if i%2==0:\n",
    "        k.append(i)\n",
    "print(k)"
   ]
  },
  {
   "cell_type": "code",
   "execution_count": 51,
   "id": "2691b5ec",
   "metadata": {},
   "outputs": [
    {
     "name": "stdout",
     "output_type": "stream",
     "text": [
      "(4, 16, 10, 8, 18)\n"
     ]
    }
   ],
   "source": [
    "#36.\n",
    "c=(2,8,5,4,9)\n",
    "k=[i*2 for i in c]\n",
    "print(tuple(k))"
   ]
  },
  {
   "cell_type": "code",
   "execution_count": 52,
   "id": "60b529a1",
   "metadata": {},
   "outputs": [
    {
     "name": "stdout",
     "output_type": "stream",
     "text": [
      "(3, 2, 3, 1, 7)\n"
     ]
    }
   ],
   "source": [
    "#37.\n",
    "import random\n",
    "k=[]\n",
    "for i in range(5):\n",
    "    k.append(random.randint(1,10))\n",
    "tup=tuple(k)\n",
    "print(tup)"
   ]
  },
  {
   "cell_type": "code",
   "execution_count": 53,
   "id": "7b58d55f",
   "metadata": {},
   "outputs": [
    {
     "name": "stdout",
     "output_type": "stream",
     "text": [
      "(1, 2, 3, 3, 7)\n"
     ]
    }
   ],
   "source": [
    "#38.\n",
    "k.sort()\n",
    "f=tuple(k)\n",
    "print(f)"
   ]
  },
  {
   "cell_type": "code",
   "execution_count": 54,
   "id": "7acf5036",
   "metadata": {},
   "outputs": [
    {
     "name": "stdout",
     "output_type": "stream",
     "text": [
      "(3, 4, 5, 1, 2)\n"
     ]
    }
   ],
   "source": [
    "#39.\n",
    "tup=(1,2,3,4,5)\n",
    "k=[]\n",
    "n=2\n",
    "for i in range(n,len(tup)):\n",
    "    k.append(tup[i])\n",
    "for j in range(n):\n",
    "    k.append(tup[j])\n",
    "tup=tuple(k)\n",
    "print(tup)"
   ]
  },
  {
   "cell_type": "code",
   "execution_count": 55,
   "id": "f5b66b68",
   "metadata": {},
   "outputs": [
    {
     "name": "stdout",
     "output_type": "stream",
     "text": [
      "(2, 3, 2, 5, 1)\n"
     ]
    }
   ],
   "source": [
    "#40.\n",
    "tup=(3,2,5,1,2)\n",
    "pos=1\n",
    "k=[]\n",
    "for i in range(len(tup)-pos,len(tup)):\n",
    "    k.append(tup[i])\n",
    "for j in range(len(tup)-pos):\n",
    "    k.append(tup[j])\n",
    "tup=tuple(k)\n",
    "print(tup)"
   ]
  },
  {
   "cell_type": "code",
   "execution_count": 56,
   "id": "d5ff2d72",
   "metadata": {},
   "outputs": [
    {
     "name": "stdout",
     "output_type": "stream",
     "text": [
      "(1, 1, 2, 3, 5, 8)\n"
     ]
    }
   ],
   "source": [
    "#41.\n",
    "k=[1,]\n",
    "a=1\n",
    "b=0\n",
    "for i in range(5):\n",
    "    a=a+b\n",
    "    k.append(a)\n",
    "    b=a-b\n",
    "print(tuple(k))"
   ]
  },
  {
   "cell_type": "code",
   "execution_count": 58,
   "id": "8c52c774",
   "metadata": {},
   "outputs": [
    {
     "name": "stdout",
     "output_type": "stream",
     "text": [
      "1\n",
      "2\n",
      "3\n",
      "4\n",
      "5\n",
      "(1, 2, 3, 4, 5)\n"
     ]
    }
   ],
   "source": [
    "#42.\n",
    "k=[]\n",
    "for i in range(5):\n",
    "    k.append(int(input()))\n",
    "print(tuple(k))"
   ]
  },
  {
   "cell_type": "code",
   "execution_count": 59,
   "id": "f1e52bd8",
   "metadata": {},
   "outputs": [
    {
     "name": "stdout",
     "output_type": "stream",
     "text": [
      "(1, 2, 5, 8, 4)\n"
     ]
    }
   ],
   "source": [
    "#43.\n",
    "k=(1,5,2,8,4)\n",
    "lst=list(k)\n",
    "temp=lst[1]\n",
    "lst[1]=lst[2]\n",
    "lst[2]=temp\n",
    "print(tuple(lst))"
   ]
  },
  {
   "cell_type": "code",
   "execution_count": 60,
   "id": "2fca889d",
   "metadata": {},
   "outputs": [
    {
     "name": "stdout",
     "output_type": "stream",
     "text": [
      "(3, 2, 1)\n"
     ]
    }
   ],
   "source": [
    "#44.\n",
    "k=(1,2,3)\n",
    "rev=k[::-1]\n",
    "print(rev)"
   ]
  },
  {
   "cell_type": "code",
   "execution_count": 61,
   "id": "dc12ef71",
   "metadata": {},
   "outputs": [
    {
     "name": "stdout",
     "output_type": "stream",
     "text": [
      "[1, 2, 4, 8, 16, 32, 64, 128, 256, 512]\n"
     ]
    }
   ],
   "source": [
    "#45.\n",
    "k=[]\n",
    "for i in range(10):\n",
    "    k.append(2**i)\n",
    "print(k)"
   ]
  },
  {
   "cell_type": "code",
   "execution_count": 62,
   "id": "2e0c0d42",
   "metadata": {},
   "outputs": [
    {
     "name": "stdout",
     "output_type": "stream",
     "text": [
      "Vishakapatnam\n"
     ]
    }
   ],
   "source": [
    "#46.\n",
    "tup=('hello','uttarPradesh','Rajasthan','Vishakapatnam')\n",
    "max1=0\n",
    "c=0\n",
    "for i in tup:\n",
    "     if max1<len(i):\n",
    "            max1=len(i)\n",
    "            c=i\n",
    "print(c)"
   ]
  },
  {
   "cell_type": "code",
   "execution_count": 63,
   "id": "91f6c49d",
   "metadata": {},
   "outputs": [
    {
     "name": "stdout",
     "output_type": "stream",
     "text": [
      "bhuj\n"
     ]
    }
   ],
   "source": [
    "#47.\n",
    "tup=('hello','uttarPradesh','Rajasthan','Vishakapatnam','bhuj')\n",
    "min1=len(tup[0])\n",
    "c=0\n",
    "for i in tup:\n",
    "     if min1>len(i):\n",
    "            min1=len(i)\n",
    "            c=i\n",
    "print(c)"
   ]
  },
  {
   "cell_type": "code",
   "execution_count": 64,
   "id": "23ab7e81",
   "metadata": {},
   "outputs": [
    {
     "name": "stdout",
     "output_type": "stream",
     "text": [
      "(1, 3, 6, 10, 15)\n"
     ]
    }
   ],
   "source": [
    "#48.\n",
    "n=5\n",
    "j=0\n",
    "k=[]\n",
    "for i in range(1,n+1):\n",
    "    j=i+j\n",
    "    k.append(j)\n",
    "print(tuple(k))"
   ]
  },
  {
   "cell_type": "code",
   "execution_count": 65,
   "id": "0f2bcb39",
   "metadata": {},
   "outputs": [
    {
     "ename": "AttributeError",
     "evalue": "'list' object has no attribute 'issubset'",
     "output_type": "error",
     "traceback": [
      "\u001b[1;31m---------------------------------------------------------------------------\u001b[0m",
      "\u001b[1;31mAttributeError\u001b[0m                            Traceback (most recent call last)",
      "Cell \u001b[1;32mIn[65], line 3\u001b[0m\n\u001b[0;32m      1\u001b[0m \u001b[38;5;66;03m#Check if a tuple contains another tuple as a subsequence.\u001b[39;00m\n\u001b[0;32m      2\u001b[0m k\u001b[38;5;241m=\u001b[39m((\u001b[38;5;241m1\u001b[39m,\u001b[38;5;241m2\u001b[39m,\u001b[38;5;241m3\u001b[39m),\u001b[38;5;241m3\u001b[39m,\u001b[38;5;241m4\u001b[39m)\n\u001b[1;32m----> 3\u001b[0m \u001b[38;5;28;01mif\u001b[39;00m \u001b[38;5;28mlist\u001b[39m(k)\u001b[38;5;241m.\u001b[39missubset([\u001b[38;5;241m3\u001b[39m,\u001b[38;5;241m4\u001b[39m]):\n\u001b[0;32m      4\u001b[0m     \u001b[38;5;28mprint\u001b[39m(\u001b[38;5;28;01mTrue\u001b[39;00m)\n\u001b[0;32m      5\u001b[0m \u001b[38;5;28;01melse\u001b[39;00m:\n",
      "\u001b[1;31mAttributeError\u001b[0m: 'list' object has no attribute 'issubset'"
     ]
    }
   ],
   "source": [
    "#Check if a tuple contains another tuple as a subsequence.\n",
    "k=((1,2,3),3,4)\n",
    "if list(k).issubset([3,4]):\n",
    "    print(True)\n",
    "else:\n",
    "    print(False)\n",
    "    "
   ]
  },
  {
   "cell_type": "code",
   "execution_count": 66,
   "id": "53bd1d38",
   "metadata": {},
   "outputs": [
    {
     "name": "stdout",
     "output_type": "stream",
     "text": [
      "[0, 1, 0, 1, 0, 1]\n"
     ]
    }
   ],
   "source": [
    "#50.\n",
    "n=5\n",
    "k=[0 if i%2==0 else 1  for i in range(n+1)]\n",
    "print(k)\n"
   ]
  },
  {
   "cell_type": "markdown",
   "id": "c32eb625",
   "metadata": {},
   "source": [
    "# Set"
   ]
  },
  {
   "cell_type": "code",
   "execution_count": 67,
   "id": "355e8323",
   "metadata": {},
   "outputs": [
    {
     "name": "stdout",
     "output_type": "stream",
     "text": [
      "{1, 2, 3, 4, 5}\n",
      "<class 'set'>\n"
     ]
    }
   ],
   "source": [
    "#1.\n",
    "set1={1,2,3,4,5}\n",
    "print(set1)\n",
    "print(type(set1))"
   ]
  },
  {
   "cell_type": "code",
   "execution_count": 68,
   "id": "45ae9b84",
   "metadata": {},
   "outputs": [
    {
     "name": "stdout",
     "output_type": "stream",
     "text": [
      "{1, 2, 3, 4, 5, 6}\n"
     ]
    }
   ],
   "source": [
    "#2.\n",
    "set1.add(6)\n",
    "print(set1)"
   ]
  },
  {
   "cell_type": "code",
   "execution_count": 69,
   "id": "7dc6df78",
   "metadata": {},
   "outputs": [
    {
     "name": "stdout",
     "output_type": "stream",
     "text": [
      "{1, 2, 3, 4, 5}\n"
     ]
    }
   ],
   "source": [
    "#3.\n",
    "set1.remove(6)\n",
    "print(set1)"
   ]
  },
  {
   "cell_type": "code",
   "execution_count": 70,
   "id": "9893d7e9",
   "metadata": {},
   "outputs": [
    {
     "name": "stdout",
     "output_type": "stream",
     "text": [
      "False\n"
     ]
    }
   ],
   "source": [
    "#4.\n",
    "n=6\n",
    "if n in set1:\n",
    "    print(True)\n",
    "else:\n",
    "    print(False)"
   ]
  },
  {
   "cell_type": "code",
   "execution_count": 71,
   "id": "4f059bda",
   "metadata": {},
   "outputs": [
    {
     "name": "stdout",
     "output_type": "stream",
     "text": [
      "5\n"
     ]
    }
   ],
   "source": [
    "#5.\n",
    "count=0\n",
    "for i in set1:\n",
    "    count=count+1\n",
    "print(count)"
   ]
  },
  {
   "cell_type": "code",
   "execution_count": 72,
   "id": "846d5445",
   "metadata": {},
   "outputs": [
    {
     "name": "stdout",
     "output_type": "stream",
     "text": [
      "set()\n"
     ]
    }
   ],
   "source": [
    "#6.\n",
    "set1.clear()\n",
    "print(set1)"
   ]
  },
  {
   "cell_type": "code",
   "execution_count": 73,
   "id": "48f48c45",
   "metadata": {},
   "outputs": [
    {
     "name": "stdout",
     "output_type": "stream",
     "text": [
      "{2, 4, 6, 8, 10}\n"
     ]
    }
   ],
   "source": [
    "#7.\n",
    "for i in range(1,11):\n",
    "    if i%2==0:\n",
    "        set1.add(i)\n",
    "print(set1)"
   ]
  },
  {
   "cell_type": "code",
   "execution_count": 74,
   "id": "c4a7d35c",
   "metadata": {},
   "outputs": [
    {
     "name": "stdout",
     "output_type": "stream",
     "text": [
      "{1, 3, 5, 7, 9}\n"
     ]
    }
   ],
   "source": [
    "#8.\n",
    "set1.clear()\n",
    "for i in range(1,11):\n",
    "    if i%2!=0:\n",
    "        set1.add(i)\n",
    "print(set1)"
   ]
  },
  {
   "cell_type": "code",
   "execution_count": 75,
   "id": "5864c7ae",
   "metadata": {},
   "outputs": [
    {
     "name": "stdout",
     "output_type": "stream",
     "text": [
      "{1, 2, 3, 5, 6, 7, 8, 9}\n"
     ]
    }
   ],
   "source": [
    "#9.\n",
    "set2={2,3,5,7,8,6}\n",
    "set3=set1.union(set2)\n",
    "print(set3)"
   ]
  },
  {
   "cell_type": "code",
   "execution_count": 76,
   "id": "0e8717f6",
   "metadata": {},
   "outputs": [
    {
     "name": "stdout",
     "output_type": "stream",
     "text": [
      "{3, 5, 7}\n"
     ]
    }
   ],
   "source": [
    "#10.\n",
    "set4=set1.intersection(set2)\n",
    "print(set4)"
   ]
  },
  {
   "cell_type": "code",
   "execution_count": 77,
   "id": "60f24910",
   "metadata": {},
   "outputs": [
    {
     "name": "stdout",
     "output_type": "stream",
     "text": [
      "{1, 9}\n"
     ]
    }
   ],
   "source": [
    "#11.\n",
    "set5=set1.difference(set2)\n",
    "print(set5)"
   ]
  },
  {
   "cell_type": "code",
   "execution_count": 78,
   "id": "a6e91096",
   "metadata": {},
   "outputs": [
    {
     "name": "stdout",
     "output_type": "stream",
     "text": [
      "True\n"
     ]
    }
   ],
   "source": [
    "#12.\n",
    "set1={1,2,3,4}\n",
    "set2={1,2,3,4,5,6}\n",
    "k=set1.issubset(set2)\n",
    "print(k)"
   ]
  },
  {
   "cell_type": "code",
   "execution_count": 79,
   "id": "19c0de13",
   "metadata": {},
   "outputs": [
    {
     "data": {
      "text/plain": [
       "True"
      ]
     },
     "execution_count": 79,
     "metadata": {},
     "output_type": "execute_result"
    }
   ],
   "source": [
    "#13.\n",
    "set2.issuperset(set1)"
   ]
  },
  {
   "cell_type": "code",
   "execution_count": 80,
   "id": "e4569b64",
   "metadata": {},
   "outputs": [
    {
     "name": "stdout",
     "output_type": "stream",
     "text": [
      "{1, 2, 3, 4, 5}\n"
     ]
    }
   ],
   "source": [
    "#14.\n",
    "lst=[1,2,3,4,5]\n",
    "set1=set(lst)\n",
    "print(set1)"
   ]
  },
  {
   "cell_type": "code",
   "execution_count": 81,
   "id": "ac5ae966",
   "metadata": {},
   "outputs": [
    {
     "name": "stdout",
     "output_type": "stream",
     "text": [
      "[1, 2, 3, 4, 5]\n"
     ]
    }
   ],
   "source": [
    "#15.\n",
    "lst=list(set1)\n",
    "print(lst)"
   ]
  },
  {
   "cell_type": "code",
   "execution_count": 82,
   "id": "c45a7199",
   "metadata": {},
   "outputs": [
    {
     "name": "stdout",
     "output_type": "stream",
     "text": [
      "{1, 2, 4, 5, 6}\n"
     ]
    }
   ],
   "source": [
    "#16.\n",
    "import random\n",
    "set1={1,2,3,4,5,6}\n",
    "set1.remove(random.choice(list(set1)))\n",
    "print(set1)"
   ]
  },
  {
   "cell_type": "code",
   "execution_count": 83,
   "id": "5964d502",
   "metadata": {},
   "outputs": [
    {
     "data": {
      "text/plain": [
       "1"
      ]
     },
     "execution_count": 83,
     "metadata": {},
     "output_type": "execute_result"
    }
   ],
   "source": [
    "#17.\n",
    "set1.pop()"
   ]
  },
  {
   "cell_type": "code",
   "execution_count": 84,
   "id": "041f8070",
   "metadata": {},
   "outputs": [
    {
     "name": "stdout",
     "output_type": "stream",
     "text": [
      "True\n"
     ]
    }
   ],
   "source": [
    "#18.\n",
    "set3={3,4,5}\n",
    "set4={1,2,9}\n",
    "k=set3.intersection(set4)\n",
    "if len(k)==0:\n",
    "    print(True)\n",
    "else:\n",
    "    print(False)"
   ]
  },
  {
   "cell_type": "code",
   "execution_count": 85,
   "id": "e0b7cd63",
   "metadata": {},
   "outputs": [
    {
     "name": "stdout",
     "output_type": "stream",
     "text": [
      "{1, 2, 5, 6}\n"
     ]
    }
   ],
   "source": [
    "#19.\n",
    "set1={1,2,3,4}\n",
    "set2={3,4,5,6}\n",
    "k=set1.intersection(set2)\n",
    "set3=set1.union(set2)\n",
    "symmetric_set=set3.difference(k)\n",
    "print(symmetric_set)"
   ]
  },
  {
   "cell_type": "code",
   "execution_count": 86,
   "id": "44303778",
   "metadata": {},
   "outputs": [
    {
     "name": "stdout",
     "output_type": "stream",
     "text": [
      "{1, 2, 3, 4, 5, 6}\n"
     ]
    }
   ],
   "source": [
    "#20.\n",
    "set1={1,2,3}\n",
    "set2={4,5,6}\n",
    "set1.update(set2)\n",
    "print(set1)"
   ]
  },
  {
   "cell_type": "code",
   "execution_count": null,
   "id": "b131e44e",
   "metadata": {},
   "outputs": [],
   "source": []
  },
  {
   "cell_type": "code",
   "execution_count": null,
   "id": "0f84cbb1",
   "metadata": {},
   "outputs": [],
   "source": []
  },
  {
   "cell_type": "code",
   "execution_count": null,
   "id": "3706b9ff",
   "metadata": {},
   "outputs": [],
   "source": []
  },
  {
   "cell_type": "code",
   "execution_count": null,
   "id": "8bb99da8",
   "metadata": {},
   "outputs": [],
   "source": []
  }
 ],
 "metadata": {
  "kernelspec": {
   "display_name": "Python 3 (ipykernel)",
   "language": "python",
   "name": "python3"
  },
  "language_info": {
   "codemirror_mode": {
    "name": "ipython",
    "version": 3
   },
   "file_extension": ".py",
   "mimetype": "text/x-python",
   "name": "python",
   "nbconvert_exporter": "python",
   "pygments_lexer": "ipython3",
   "version": "3.11.4"
  }
 },
 "nbformat": 4,
 "nbformat_minor": 5
}
