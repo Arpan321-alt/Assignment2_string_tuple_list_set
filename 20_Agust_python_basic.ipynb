{
 "cells": [
  {
   "cell_type": "code",
   "execution_count": 1,
   "id": "2cc9248d-8115-4509-984c-1efffdafe3ca",
   "metadata": {},
   "outputs": [
    {
     "data": {
      "text/plain": [
       "'1.Write a program to reverse a string.\\n2. Check if a string is a palindrome.\\n3. Convert a string to uppercase.\\n4. Convert a string to lowercase.\\n5. Count the number of vowels in a string.\\n6. Count the number of consonants in a string.\\n7. Remove all whitespaces from a string.\\n8. Find the length of a string without using the `len()` function.\\n9. Check if a string contains a specific word.\\n10. Replace a word in a string with another word.\\n11. Count the occurrences of a word in a string.\\n12. Find the first occurrence of a word in a string.\\n13. Find the last occurrence of a word in a string.\\n14. Split a string into a list of words.\\n15. Join a list of words into a string.'"
      ]
     },
     "execution_count": 1,
     "metadata": {},
     "output_type": "execute_result"
    }
   ],
   "source": [
    "#String\n",
    "'''1.Write a program to reverse a string.\n",
    "2. Check if a string is a palindrome.\n",
    "3. Convert a string to uppercase.\n",
    "4. Convert a string to lowercase.\n",
    "5. Count the number of vowels in a string.\n",
    "6. Count the number of consonants in a string.\n",
    "7. Remove all whitespaces from a string.\n",
    "8. Find the length of a string without using the `len()` function.\n",
    "9. Check if a string contains a specific word.\n",
    "10. Replace a word in a string with another word.\n",
    "11. Count the occurrences of a word in a string.\n",
    "12. Find the first occurrence of a word in a string.\n",
    "13. Find the last occurrence of a word in a string.\n",
    "14. Split a string into a list of words.\n",
    "15. Join a list of words into a string.'''"
   ]
  },
  {
   "cell_type": "code",
   "execution_count": 2,
   "id": "1e541fe6-5755-4dbd-9f09-e618632befdb",
   "metadata": {},
   "outputs": [
    {
     "name": "stdout",
     "output_type": "stream",
     "text": [
      " napra siemanym\n"
     ]
    }
   ],
   "source": [
    "#1. \n",
    "n='mynameis arpan '\n",
    "rev=n[::-1]\n",
    "print(rev)"
   ]
  },
  {
   "cell_type": "code",
   "execution_count": 3,
   "id": "3ab8913c-efda-481a-b1aa-93aadd6dcf4f",
   "metadata": {},
   "outputs": [
    {
     "name": "stdout",
     "output_type": "stream",
     "text": [
      "its a polindrome\n"
     ]
    }
   ],
   "source": [
    "#2.\n",
    "n='heh'\n",
    "rev=n[::-1]\n",
    "if n == rev:\n",
    "    print(\"its a polindrome\")\n",
    "else:\n",
    "    print(\"its not a polindrome\")"
   ]
  },
  {
   "cell_type": "code",
   "execution_count": 4,
   "id": "cac0a2da-66d2-489e-97b1-dcde6ed88a47",
   "metadata": {},
   "outputs": [
    {
     "name": "stdout",
     "output_type": "stream",
     "text": [
      "MY NAME IS ARPAN GUPTA\n"
     ]
    }
   ],
   "source": [
    "#3.\n",
    "lwr='my name is arpan gupta'\n",
    "upr=lwr.upper()\n",
    "print(upr)"
   ]
  },
  {
   "cell_type": "code",
   "execution_count": 5,
   "id": "7096d7d9-6ff2-47c6-8c6a-dbfb8483ac8a",
   "metadata": {},
   "outputs": [
    {
     "name": "stdout",
     "output_type": "stream",
     "text": [
      "my name is arpan gupta\n"
     ]
    }
   ],
   "source": [
    "#4.\n",
    "upr1='MY NAME IS ARPAN GUPTA'\n",
    "lwr1=upr1.lower()\n",
    "print(lwr1)"
   ]
  },
  {
   "cell_type": "code",
   "execution_count": 6,
   "id": "ea2d13a6-8913-4ec9-8df7-e632de14eec2",
   "metadata": {},
   "outputs": [
    {
     "name": "stdout",
     "output_type": "stream",
     "text": [
      "4\n"
     ]
    }
   ],
   "source": [
    "#5.a,e,i,o,u\n",
    "vowel_str='everyone'\n",
    "count=0\n",
    "for i in vowel_str:\n",
    "    if i=='a' or i=='e' or i=='i' or i=='o' or i=='u':\n",
    "        count=count+1\n",
    "print(count)"
   ]
  },
  {
   "cell_type": "code",
   "execution_count": 7,
   "id": "5fe837ed-c2c9-4365-8aae-f4b425db5623",
   "metadata": {},
   "outputs": [
    {
     "name": "stdout",
     "output_type": "stream",
     "text": [
      "7\n"
     ]
    }
   ],
   "source": [
    "#6.\n",
    "vowel_str='hello everyone'\n",
    "count1=0\n",
    "for i in vowel_str:\n",
    "    if i!='a' and i!='e' and i!='i' and i!='o' and i!='u' and i!=' ':\n",
    "        count1=count1+1\n",
    "print(count1)"
   ]
  },
  {
   "cell_type": "code",
   "execution_count": 8,
   "id": "c2107d74-9514-4bd1-9502-84239ef7fc01",
   "metadata": {},
   "outputs": [
    {
     "name": "stdout",
     "output_type": "stream",
     "text": [
      "arpangupta\n"
     ]
    }
   ],
   "source": [
    "#7.Remove all whitespaces from the strings\n",
    "space_str='a r pan g u pta'\n",
    "b=''\n",
    "for i in space_str:\n",
    "    if i!=' ':\n",
    "        b=b+i\n",
    "print(b)"
   ]
  },
  {
   "cell_type": "code",
   "execution_count": 9,
   "id": "94252428-ae56-4758-86b9-b29ec847b5aa",
   "metadata": {},
   "outputs": [
    {
     "name": "stdout",
     "output_type": "stream",
     "text": [
      "16\n"
     ]
    }
   ],
   "source": [
    "#8\n",
    "length_string='bhopal ismyplace'\n",
    "count3=0\n",
    "for i in length_string:\n",
    "    count3=count3+1\n",
    "print(count3)"
   ]
  },
  {
   "cell_type": "code",
   "execution_count": 10,
   "id": "bab32019-1509-4d0e-978e-06aaa7be1e85",
   "metadata": {},
   "outputs": [
    {
     "name": "stdout",
     "output_type": "stream",
     "text": [
      "True\n"
     ]
    }
   ],
   "source": [
    "#9\n",
    "sentence='india is my country'\n",
    "word='my'\n",
    "if word in sentence:\n",
    "    print(True)\n",
    "else:\n",
    "    print(False)"
   ]
  },
  {
   "cell_type": "code",
   "execution_count": 11,
   "id": "a2a2941e-117a-44bf-ab6d-7de8525750e8",
   "metadata": {},
   "outputs": [
    {
     "name": "stdout",
     "output_type": "stream",
     "text": [
      "good morning bhopal\n"
     ]
    }
   ],
   "source": [
    "#10.Replace a word in a string with another word\n",
    "sen='good morning mumbai'\n",
    "new_sen=sen.replace('mumbai','bhopal')\n",
    "print(new_sen)"
   ]
  },
  {
   "cell_type": "code",
   "execution_count": 12,
   "id": "86526a56-2305-4475-a715-59e01c736eb0",
   "metadata": {},
   "outputs": [
    {
     "name": "stdout",
     "output_type": "stream",
     "text": [
      "morning   2\n",
      "good   1\n",
      "bhopal   2\n",
      "kolkata   1\n",
      "delhi   1\n",
      "mumbai   1\n"
     ]
    }
   ],
   "source": [
    "#11\n",
    "sen1='good morning morning bhopal bhopal mumbai delhi kolkata'\n",
    "lst=set(sen1.split(' ')) #In this first sentence is splitting into the words and covert in the list and then converted into the \n",
    "                            #set for removal of duplication of words.\n",
    "for i in lst:\n",
    "    print(i,' ',sen1.count(i)) #its gives count of every word\n",
    "    \n"
   ]
  },
  {
   "cell_type": "code",
   "execution_count": 13,
   "id": "7ce91e23-0c55-4498-a133-2b9f00dc8714",
   "metadata": {},
   "outputs": [
    {
     "data": {
      "text/plain": [
       "5"
      ]
     },
     "execution_count": 13,
     "metadata": {},
     "output_type": "execute_result"
    }
   ],
   "source": [
    "#12\n",
    "sen2='good morning morning bhopal bhopal mumbai delhi kolkata'\n",
    "sen2.find('morning')"
   ]
  },
  {
   "cell_type": "code",
   "execution_count": 14,
   "id": "0d20f27f-d346-49eb-9aab-214c18f14294",
   "metadata": {},
   "outputs": [
    {
     "data": {
      "text/plain": [
       "21"
      ]
     },
     "execution_count": 14,
     "metadata": {},
     "output_type": "execute_result"
    }
   ],
   "source": [
    "#13\n",
    "sen3='good morning morning bhopal bhopal mumbai delhi kolkata'\n",
    "sen3.find('bhopal')"
   ]
  },
  {
   "cell_type": "code",
   "execution_count": 15,
   "id": "1a23856b-ab1a-488c-b17c-ef96ec5acba6",
   "metadata": {},
   "outputs": [
    {
     "data": {
      "text/plain": [
       "['good',\n",
       " 'morning',\n",
       " 'morning',\n",
       " 'bhopal',\n",
       " 'bhopal',\n",
       " 'mumbai',\n",
       " 'delhi',\n",
       " 'kolkata']"
      ]
     },
     "execution_count": 15,
     "metadata": {},
     "output_type": "execute_result"
    }
   ],
   "source": [
    "#14\n",
    "sen4='good morning morning bhopal bhopal mumbai delhi kolkata'\n",
    "sen4.split(' ')"
   ]
  },
  {
   "cell_type": "code",
   "execution_count": 16,
   "id": "352c2869-a903-46fe-9c98-11f24a7e1dcf",
   "metadata": {},
   "outputs": [
    {
     "data": {
      "text/plain": [
       "'orange banana apple pineapple graps lichy papaya'"
      ]
     },
     "execution_count": 16,
     "metadata": {},
     "output_type": "execute_result"
    }
   ],
   "source": [
    "#15\n",
    "words2='orange banana apple'\n",
    "new_word='pineapple graps lichy papaya'\n",
    "words3=words2+' '+new_word\n",
    "words3"
   ]
  },
  {
   "cell_type": "code",
   "execution_count": 17,
   "id": "79e83eff-4742-4597-9b8c-91dbdf08aa8e",
   "metadata": {},
   "outputs": [
    {
     "name": "stdout",
     "output_type": "stream",
     "text": [
      "Hi_my_name_is_arpan_gupta\n"
     ]
    }
   ],
   "source": [
    "#16.\n",
    "s='Hi my name is arpan gupta'\n",
    "k=s.replace(' ','_')\n",
    "print(k)"
   ]
  },
  {
   "cell_type": "code",
   "execution_count": 18,
   "id": "86c8a29b",
   "metadata": {},
   "outputs": [
    {
     "name": "stdout",
     "output_type": "stream",
     "text": [
      "Yes its start with a specific word\n"
     ]
    }
   ],
   "source": [
    "#17.\n",
    "s='Hello World!'\n",
    "start='Hello'\n",
    "k=s.split()\n",
    "if k[0] == start:\n",
    "    print('Yes its start with a specific word')\n",
    "else:\n",
    "    print('no its not start with a specific word')\n",
    "    "
   ]
  },
  {
   "cell_type": "code",
   "execution_count": 19,
   "id": "6c948a7d",
   "metadata": {},
   "outputs": [
    {
     "name": "stdout",
     "output_type": "stream",
     "text": [
      "yes its ends with a specific word\n"
     ]
    }
   ],
   "source": [
    "#18.\n",
    "s='Hello World!'\n",
    "ends='World!'\n",
    "k=s.split()\n",
    "if ends==k[-1]:\n",
    "    print('yes its ends with a specific word')\n",
    "else:\n",
    "    print('no its not ends with a specific word')"
   ]
  },
  {
   "cell_type": "code",
   "execution_count": 20,
   "id": "4b758ec9",
   "metadata": {},
   "outputs": [
    {
     "name": "stdout",
     "output_type": "stream",
     "text": [
      "Hello Arpan\n"
     ]
    }
   ],
   "source": [
    "#19.\n",
    "s='hello arpan'\n",
    "new_s=s.title()\n",
    "print(new_s)"
   ]
  },
  {
   "cell_type": "code",
   "execution_count": 21,
   "id": "1e8da1b8",
   "metadata": {},
   "outputs": [
    {
     "name": "stdout",
     "output_type": "stream",
     "text": [
      "Vishakapatnam : 13\n"
     ]
    }
   ],
   "source": [
    "#20.\n",
    "s='Good morning Vishakapatnam'\n",
    "dic={}\n",
    "k=s.split()\n",
    "for i in k:\n",
    "    dic[len(i)]=i\n",
    "l=max(list(dic.keys()))\n",
    "print(dic[l],':',l)"
   ]
  },
  {
   "cell_type": "code",
   "execution_count": 22,
   "id": "6896a8d5",
   "metadata": {},
   "outputs": [
    {
     "name": "stdout",
     "output_type": "stream",
     "text": [
      "Bhuj : 4\n"
     ]
    }
   ],
   "source": [
    "#21.\n",
    "s='Good morning Bhuj'\n",
    "dic={}\n",
    "k=s.split()\n",
    "for i in k:\n",
    "    dic[len(i)]=i\n",
    "l=min(list(dic.keys()))\n",
    "print(dic[l],':',l)"
   ]
  },
  {
   "cell_type": "code",
   "execution_count": 23,
   "id": "45e0aded",
   "metadata": {},
   "outputs": [
    {
     "name": "stdout",
     "output_type": "stream",
     "text": [
      "oist from graduation my done have I\n"
     ]
    }
   ],
   "source": [
    "#22.\n",
    "s='I have done my graduation from oist'\n",
    "k=s.split()\n",
    "m=' '.join(k[::-1])\n",
    "print(m)"
   ]
  },
  {
   "cell_type": "code",
   "execution_count": 24,
   "id": "9887c1da",
   "metadata": {},
   "outputs": [
    {
     "name": "stdout",
     "output_type": "stream",
     "text": [
      "True\n"
     ]
    }
   ],
   "source": [
    "#23.\n",
    "s='arpan123'\n",
    "print(s.isalnum())"
   ]
  },
  {
   "cell_type": "code",
   "execution_count": 25,
   "id": "c06a20e6",
   "metadata": {},
   "outputs": [
    {
     "name": "stdout",
     "output_type": "stream",
     "text": [
      "630\n"
     ]
    }
   ],
   "source": [
    "#24.\n",
    "s='arpangupta630'\n",
    "b=''\n",
    "for i in s:\n",
    "    if i in ['0','1','2','3','4','5','6','7','8','9']:\n",
    "        b=b + i\n",
    "print(int(b))"
   ]
  },
  {
   "cell_type": "code",
   "execution_count": 26,
   "id": "8bad8244",
   "metadata": {},
   "outputs": [
    {
     "name": "stdout",
     "output_type": "stream",
     "text": [
      "arpangupta\n"
     ]
    }
   ],
   "source": [
    "#25.\n",
    "s='arpangupta730'\n",
    "b=''\n",
    "for i in s:\n",
    "    if i not in ['0','1','2','3','4','5','6','7','8','9']:\n",
    "        b=b + i\n",
    "print(b)"
   ]
  },
  {
   "cell_type": "code",
   "execution_count": 27,
   "id": "1b6d8206",
   "metadata": {},
   "outputs": [
    {
     "name": "stdout",
     "output_type": "stream",
     "text": [
      "3\n"
     ]
    }
   ],
   "source": [
    "#26.\n",
    "s='Arpan GupTa'\n",
    "count=0\n",
    "for i in s:\n",
    "    if i.isupper():\n",
    "        count=count+1\n",
    "print(count)"
   ]
  },
  {
   "cell_type": "code",
   "execution_count": 28,
   "id": "9299ed89",
   "metadata": {},
   "outputs": [
    {
     "name": "stdout",
     "output_type": "stream",
     "text": [
      "7\n"
     ]
    }
   ],
   "source": [
    "#27.\n",
    "s='Arpan GupTa'\n",
    "count=0\n",
    "for i in s:\n",
    "    if i.islower():\n",
    "        count=count+1\n",
    "print(count)"
   ]
  },
  {
   "cell_type": "code",
   "execution_count": 29,
   "id": "36755dbf",
   "metadata": {},
   "outputs": [
    {
     "name": "stdout",
     "output_type": "stream",
     "text": [
      "aRPAN gUpta\n"
     ]
    }
   ],
   "source": [
    "#28.\n",
    "s='Arpan GuPTA'\n",
    "k=s.swapcase()\n",
    "print(k)"
   ]
  },
  {
   "cell_type": "code",
   "execution_count": 30,
   "id": "810538b5",
   "metadata": {},
   "outputs": [
    {
     "name": "stdout",
     "output_type": "stream",
     "text": [
      "You are so\n"
     ]
    }
   ],
   "source": [
    "#29.\n",
    "s='You are so good'\n",
    "user='good'\n",
    "k=s.split()\n",
    "k.remove(user)\n",
    "new_s=' '.join(k)\n",
    "print(new_s)"
   ]
  },
  {
   "cell_type": "code",
   "execution_count": 31,
   "id": "18c6b7cc",
   "metadata": {},
   "outputs": [],
   "source": [
    "#30.check if a string is a valid email address"
   ]
  },
  {
   "cell_type": "code",
   "execution_count": 32,
   "id": "c6a71bad",
   "metadata": {},
   "outputs": [
    {
     "name": "stdout",
     "output_type": "stream",
     "text": [
      "arpangupta630\n"
     ]
    }
   ],
   "source": [
    "#31.\n",
    "email='arpangupta630@gmail.com'\n",
    "b=''\n",
    "for i in email:\n",
    "    if i!='@':\n",
    "        b=b+i\n",
    "    else:\n",
    "        break\n",
    "print(b)"
   ]
  },
  {
   "cell_type": "code",
   "execution_count": 33,
   "id": "3e8a5fbc",
   "metadata": {},
   "outputs": [
    {
     "name": "stdout",
     "output_type": "stream",
     "text": [
      "gmail\n"
     ]
    }
   ],
   "source": [
    "#32.\n",
    "email='arpangupta630@gmail.com'\n",
    "for i in range(len(email)):\n",
    "    if email[i]=='@':\n",
    "        break\n",
    "b=''\n",
    "for j in range(i+1,len(email)):\n",
    "    if email[j]!='.':\n",
    "        b=b+email[j]\n",
    "    else:\n",
    "        break\n",
    "print(b)"
   ]
  },
  {
   "cell_type": "code",
   "execution_count": 34,
   "id": "456e33ad",
   "metadata": {},
   "outputs": [
    {
     "name": "stdout",
     "output_type": "stream",
     "text": [
      "my name is arpan \n"
     ]
    }
   ],
   "source": [
    "#33.\n",
    "s='my   name is        arpan'\n",
    "k=s.split()\n",
    "b=''\n",
    "for i in k:\n",
    "    if i!=' ':\n",
    "        b=b+i+' '\n",
    "print(b)"
   ]
  },
  {
   "cell_type": "code",
   "execution_count": 35,
   "id": "a39d6a1c",
   "metadata": {},
   "outputs": [],
   "source": [
    "#34.'www.google.com' 'https://www.google.com/3301'\n",
    "#check if a string is a valid url\n",
    "\n",
    "\n",
    "\n",
    "\n"
   ]
  },
  {
   "cell_type": "code",
   "execution_count": 36,
   "id": "54ffe709",
   "metadata": {},
   "outputs": [
    {
     "name": "stdout",
     "output_type": "stream",
     "text": [
      "https\n"
     ]
    }
   ],
   "source": [
    "#35.'https://localhost:8000'\n",
    "s='https://localhost:8000'\n",
    "b=''\n",
    "for i in s:\n",
    "    if i!=':':\n",
    "        b=b+i\n",
    "    else:\n",
    "        break\n",
    "print(b)"
   ]
  },
  {
   "cell_type": "code",
   "execution_count": 37,
   "id": "281e67a8",
   "metadata": {},
   "outputs": [
    {
     "name": "stdout",
     "output_type": "stream",
     "text": [
      "{'a': 2, 'b': 2, 'c': 3}\n"
     ]
    }
   ],
   "source": [
    "#36.\n",
    "s='aabccbc'\n",
    "f=list(s)                         #first  i converted into the list because sorting\n",
    "b=s[0]                            #In this line I extract one character from the string \n",
    "dic={}\n",
    "count=0\n",
    "f.sort()                          #In this line I sorted list \n",
    "for i in f:\n",
    "    if b==i:                     #In this line I match every backward character to the forward character                     \n",
    "        count=count+1\n",
    "        b=i                        #this variable stores every backward character\n",
    "    else:\n",
    "        dic[b]=count             #end: if character is not matching then i store its total count in dictionary\n",
    "        b=i                      #this line store current character because loop starts with next character and then from next iteration we can match that character to the next character.\n",
    "        count=1                #here count =a because its count the current character\n",
    "        \n",
    "dic[b]=count    #its store last character count \n",
    "print(dic)"
   ]
  },
  {
   "cell_type": "code",
   "execution_count": 38,
   "id": "6e84ea2b",
   "metadata": {},
   "outputs": [
    {
     "name": "stdout",
     "output_type": "stream",
     "text": [
      "Arpan\n"
     ]
    }
   ],
   "source": [
    "#37.'''!()-[]{};:'\"\\,<>./?@#$%^&*_~''\n",
    "ele='''!()-[]{};:'\"\\,<>./?@#$%^&*_~'''\n",
    "k=list(ele)\n",
    "s='Ar[p#$a,n'\n",
    "for i in s:\n",
    "    if i in k:\n",
    "        s=s.replace(i,'')\n",
    "print(s)"
   ]
  },
  {
   "cell_type": "code",
   "execution_count": 39,
   "id": "a902c419",
   "metadata": {},
   "outputs": [
    {
     "data": {
      "text/plain": [
       "True"
      ]
     },
     "execution_count": 39,
     "metadata": {},
     "output_type": "execute_result"
    }
   ],
   "source": [
    "#38.\n",
    "s='1234'\n",
    "s.isnumeric()"
   ]
  },
  {
   "cell_type": "code",
   "execution_count": 40,
   "id": "8a9e1ad7",
   "metadata": {},
   "outputs": [
    {
     "data": {
      "text/plain": [
       "True"
      ]
     },
     "execution_count": 40,
     "metadata": {},
     "output_type": "execute_result"
    }
   ],
   "source": [
    "#39.\n",
    "s='alphabets'\n",
    "s.isalpha()"
   ]
  },
  {
   "cell_type": "code",
   "execution_count": 41,
   "id": "4cca95f9",
   "metadata": {},
   "outputs": [
    {
     "name": "stdout",
     "output_type": "stream",
     "text": [
      "['A', 'r', 'p', 'a', 'n', ' ', 'G', 'u', 'p', 't', 'a']\n"
     ]
    }
   ],
   "source": [
    "#40.\n",
    "s='Arpan Gupta'\n",
    "print(list(s))"
   ]
  },
  {
   "cell_type": "code",
   "execution_count": 42,
   "id": "c4d62f45",
   "metadata": {},
   "outputs": [
    {
     "name": "stdout",
     "output_type": "stream",
     "text": [
      "its not a anagram\n"
     ]
    }
   ],
   "source": [
    "#41.\n",
    "s1='astrontomer'\n",
    "s2='moonstarer'\n",
    "s3=list(s2)\n",
    "count=0\n",
    "for i in s1:\n",
    "    if i in s3:\n",
    "        s3.remove(i)\n",
    "        count=count+1\n",
    "    else:\n",
    "        break\n",
    "if count==len(s1):\n",
    "    print('its a anagram')\n",
    "else:\n",
    "    print('its not a anagram')\n",
    "    "
   ]
  },
  {
   "cell_type": "code",
   "execution_count": 43,
   "id": "3d477713",
   "metadata": {},
   "outputs": [
    {
     "name": "stdout",
     "output_type": "stream",
     "text": [
      "please enter stringHELLO\n",
      "please enter positions1\n",
      "IFMMP\n"
     ]
    }
   ],
   "source": [
    "#42.\n",
    "s=input('please enter string')\n",
    "pos=int(input('please enter positions'))\n",
    "s1=''\n",
    "for i in s:\n",
    "    if i!=' ':\n",
    "        shift=chr(ord(i)+pos)\n",
    "        s1=s1+shift\n",
    "print(s1)"
   ]
  },
  {
   "cell_type": "code",
   "execution_count": 44,
   "id": "5c66eb06",
   "metadata": {},
   "outputs": [
    {
     "name": "stdout",
     "output_type": "stream",
     "text": [
      "please enter stringIFMP\n",
      "please enter positions1\n",
      "HELO\n"
     ]
    }
   ],
   "source": [
    "#43.\n",
    "\n",
    "s=input('please enter string')\n",
    "pos=int(input('please enter positions'))\n",
    "s1=''\n",
    "for i in s:\n",
    "    if i!=' ':\n",
    "        shift=chr(ord(i)-pos)\n",
    "        s1=s1+shift\n",
    "print(s1)"
   ]
  },
  {
   "cell_type": "code",
   "execution_count": 45,
   "id": "ec075da0",
   "metadata": {},
   "outputs": [
    {
     "name": "stdout",
     "output_type": "stream",
     "text": [
      "world : 4\n"
     ]
    }
   ],
   "source": [
    "#44.\n",
    "s='hello world world hello everyone hello mumbai world world'\n",
    "l=s.split()\n",
    "l.sort()\n",
    "count=0\n",
    "k=l[0]\n",
    "dic={}\n",
    "for i in l:\n",
    "    if k==i:\n",
    "        k=i\n",
    "        count=count+1\n",
    "    else:\n",
    "        dic[count]=k\n",
    "        k=i\n",
    "        count=1\n",
    "dic[count]=k\n",
    "max_time=max(list(dic.keys()))\n",
    "print(dic[max_time],':',max_time)"
   ]
  },
  {
   "cell_type": "code",
   "execution_count": 46,
   "id": "c2f8c934",
   "metadata": {},
   "outputs": [
    {
     "name": "stdout",
     "output_type": "stream",
     "text": [
      "[1, 'abhinav']\n",
      "[1, 'arpan']\n"
     ]
    }
   ],
   "source": [
    "#45.\n",
    "#hello hello everyone everyone arpan gupta\n",
    "s='hello hello everyone everyone hello abhinav arpan'\n",
    "k=s.split()\n",
    "k.sort()\n",
    "v=k[0]\n",
    "count=0\n",
    "ls=[]\n",
    "for i in k:\n",
    "    if v==i:\n",
    "        count=count+1\n",
    "        v=i\n",
    "    else:\n",
    "        ls.append([count,v])\n",
    "        v=i\n",
    "        count=1\n",
    "ls.append([count,v])\n",
    "for j in ls:\n",
    "    if j[0]==1:\n",
    "        print(j)\n"
   ]
  },
  {
   "cell_type": "code",
   "execution_count": 47,
   "id": "704d7166",
   "metadata": {},
   "outputs": [
    {
     "name": "stdout",
     "output_type": "stream",
     "text": [
      "3\n"
     ]
    }
   ],
   "source": [
    "#46. \n",
    "s=\"met-a-phon\"\n",
    "k=s.split('-')\n",
    "print(len(k))"
   ]
  },
  {
   "cell_type": "code",
   "execution_count": 48,
   "id": "f513be85",
   "metadata": {},
   "outputs": [
    {
     "name": "stdout",
     "output_type": "stream",
     "text": [
      "True\n"
     ]
    }
   ],
   "source": [
    "#47.\n",
    "s='pe$ple'\n",
    "k='''!()-[]{};:'\"\\,<>./?@#$%^&*_~'''\n",
    "k=list(k)\n",
    "for i in s:\n",
    "    if i in k:\n",
    "        print(True)\n",
    "        break"
   ]
  },
  {
   "cell_type": "code",
   "execution_count": 50,
   "id": "4d82ce43",
   "metadata": {},
   "outputs": [
    {
     "name": "stdout",
     "output_type": "stream",
     "text": [
      "please enter nth word2\n",
      "hi good morning good night\n"
     ]
    }
   ],
   "source": [
    "#48.\n",
    "s='hi hello good morning good night'\n",
    "k=s.split()\n",
    "user=int(input('please enter nth word'))\n",
    "word=k[user-1]\n",
    "k.remove(word)\n",
    "s=' '.join(k)\n",
    "print(s)"
   ]
  },
  {
   "cell_type": "code",
   "execution_count": 51,
   "id": "84e65c0d",
   "metadata": {},
   "outputs": [
    {
     "name": "stdout",
     "output_type": "stream",
     "text": [
      "please enter nth word2\n",
      "please enter wordbad\n",
      "hi bad hello good morning good night\n"
     ]
    }
   ],
   "source": [
    "#49.\n",
    "s='hi hello good morning good night'\n",
    "k=s.split()\n",
    "user=int(input('please enter nth word'))\n",
    "word=input('please enter word')\n",
    "k.insert(user-1,word)\n",
    "s=' '.join(k)\n",
    "print(s)"
   ]
  },
  {
   "cell_type": "code",
   "execution_count": 52,
   "id": "19158201",
   "metadata": {},
   "outputs": [
    {
     "name": "stdout",
     "output_type": "stream",
     "text": [
      "['hi', 'hello', 'arpan', 'gupta', 'name']\n"
     ]
    }
   ],
   "source": [
    "#50.\n",
    "s='hi,hello,arpan,gupta,name'\n",
    "k=s.split(',')\n",
    "print(k)"
   ]
  },
  {
   "cell_type": "markdown",
   "id": "b8fd53d2",
   "metadata": {},
   "source": [
    "# List\n"
   ]
  },
  {
   "cell_type": "code",
   "execution_count": 53,
   "id": "bf5f3925",
   "metadata": {},
   "outputs": [
    {
     "name": "stdout",
     "output_type": "stream",
     "text": [
      "[1, 2, 3, 4, 5, 6, 7, 8, 9]\n"
     ]
    }
   ],
   "source": [
    "#1.\n",
    "k=[]\n",
    "for i in range(1,10):\n",
    "    k.append(i)\n",
    "print(k)"
   ]
  },
  {
   "cell_type": "code",
   "execution_count": 54,
   "id": "c7c0bbed",
   "metadata": {},
   "outputs": [
    {
     "name": "stdout",
     "output_type": "stream",
     "text": [
      "9\n"
     ]
    }
   ],
   "source": [
    "#2.\n",
    "count=0\n",
    "for i in k:\n",
    "    count=count+1\n",
    "print(count)"
   ]
  },
  {
   "cell_type": "code",
   "execution_count": 55,
   "id": "aeeb2dab",
   "metadata": {},
   "outputs": [
    {
     "name": "stdout",
     "output_type": "stream",
     "text": [
      "[1, 2, 3, 4, 5, 6, 7, 8, 9, 10]\n"
     ]
    }
   ],
   "source": [
    "#3.\n",
    "k.append(10)\n",
    "print(k)"
   ]
  },
  {
   "cell_type": "code",
   "execution_count": 56,
   "id": "15982cbb",
   "metadata": {},
   "outputs": [
    {
     "name": "stdout",
     "output_type": "stream",
     "text": [
      "please enter index1\n",
      "please enter elementhi\n",
      "[1, 'hi', 2, 3, 4, 5, 6, 7, 8, 9, 10]\n"
     ]
    }
   ],
   "source": [
    "#4.\n",
    "index=int(input('please enter index'))\n",
    "ele=input('please enter element')\n",
    "k.insert(index,ele)\n",
    "print(k)"
   ]
  },
  {
   "cell_type": "code",
   "execution_count": 57,
   "id": "2365729a",
   "metadata": {},
   "outputs": [
    {
     "name": "stdout",
     "output_type": "stream",
     "text": [
      "please enter value2\n",
      "[1, 3, 4, 5, 'e']\n"
     ]
    }
   ],
   "source": [
    "#5.\n",
    "n=[1,2,3,4,5,'e']\n",
    "ele=input('please enter value')\n",
    "if ele.isdigit():\n",
    "    n.remove(int(ele))\n",
    "else:\n",
    "    n.remove(ele)\n",
    "print(n)"
   ]
  },
  {
   "cell_type": "code",
   "execution_count": 58,
   "id": "ecb1c744",
   "metadata": {},
   "outputs": [
    {
     "name": "stdout",
     "output_type": "stream",
     "text": [
      "please enter index2\n",
      "[1, 2, 4, 5]\n"
     ]
    }
   ],
   "source": [
    "#6.\n",
    "n=[1,2,3,4,5]\n",
    "index1=int(input('please enter index'))\n",
    "n.pop(index1)\n",
    "print(n)"
   ]
  },
  {
   "cell_type": "code",
   "execution_count": 59,
   "id": "1df7e473",
   "metadata": {},
   "outputs": [
    {
     "name": "stdout",
     "output_type": "stream",
     "text": [
      "True\n"
     ]
    }
   ],
   "source": [
    "#7\n",
    "num=3\n",
    "n=[1,2,3,4,5]\n",
    "if num in n:\n",
    "    print(True)\n",
    "else:\n",
    "    print(False)\n",
    "    "
   ]
  },
  {
   "cell_type": "code",
   "execution_count": 60,
   "id": "efe4039b",
   "metadata": {},
   "outputs": [
    {
     "name": "stdout",
     "output_type": "stream",
     "text": [
      "2\n"
     ]
    }
   ],
   "source": [
    "#8.\n",
    "n=[1,2,3,4,5]\n",
    "k=3\n",
    "print(n.index(3))"
   ]
  },
  {
   "cell_type": "code",
   "execution_count": 61,
   "id": "42585760",
   "metadata": {},
   "outputs": [
    {
     "name": "stdout",
     "output_type": "stream",
     "text": [
      "{1: 2, 2: 1, 3: 1, 4: 2, 5: 2}\n"
     ]
    }
   ],
   "source": [
    "#9.\n",
    "n=[1,1,2,3,4,5,4,5]\n",
    "f=set(n)\n",
    "dic={}\n",
    "for i in f:\n",
    "    dic[i]=n.count(i)\n",
    "print(dic)"
   ]
  },
  {
   "cell_type": "code",
   "execution_count": 62,
   "id": "11ad9396",
   "metadata": {},
   "outputs": [
    {
     "name": "stdout",
     "output_type": "stream",
     "text": [
      "[4, 3, 2, 1]\n"
     ]
    }
   ],
   "source": [
    "#10.\n",
    "n=[1,2,3,4]\n",
    "print(n[::-1])"
   ]
  },
  {
   "cell_type": "code",
   "execution_count": 63,
   "id": "db0ccdb1",
   "metadata": {},
   "outputs": [
    {
     "name": "stdout",
     "output_type": "stream",
     "text": [
      "[1, 2, 3, 4, 5, 6]\n"
     ]
    }
   ],
   "source": [
    "#11.\n",
    "n=[1,3,2,5,4,6]\n",
    "for i in range(len(n)-1):\n",
    "    if n[i]>n[i+1]:\n",
    "        temp=n[i]\n",
    "        n[i]=n[i+1]\n",
    "        n[i+1]=temp\n",
    "print(n)"
   ]
  },
  {
   "cell_type": "code",
   "execution_count": 64,
   "id": "1d341cf2",
   "metadata": {},
   "outputs": [
    {
     "name": "stdout",
     "output_type": "stream",
     "text": [
      "[3, 2, 5, 4, 6, 1]\n"
     ]
    }
   ],
   "source": [
    "#sort a list in descending order\n",
    "n=[1,3,2,5,4,6]\n",
    "for i in range(len(n)-1):\n",
    "    if n[i]<n[i+1]:\n",
    "        temp=n[i]\n",
    "        n[i]=n[i+1]\n",
    "        n[i+1]=temp\n",
    "print(n)\n"
   ]
  },
  {
   "cell_type": "code",
   "execution_count": 65,
   "id": "418f493e",
   "metadata": {},
   "outputs": [
    {
     "name": "stdout",
     "output_type": "stream",
     "text": [
      "[2, 4, 6, 8, 10, 12, 14, 16, 18, 20]\n"
     ]
    }
   ],
   "source": [
    "#13.\n",
    "k=[i*2 for i in range(1,11)]\n",
    "print(k)"
   ]
  },
  {
   "cell_type": "code",
   "execution_count": 66,
   "id": "2e9d1800",
   "metadata": {},
   "outputs": [
    {
     "name": "stdout",
     "output_type": "stream",
     "text": [
      "[1, 3, 5, 7, 9]\n"
     ]
    }
   ],
   "source": [
    "#14.\n",
    "k=[i for i in range(1,11) if i%2!=0]\n",
    "print(k)"
   ]
  },
  {
   "cell_type": "code",
   "execution_count": 67,
   "id": "53606a38",
   "metadata": {},
   "outputs": [
    {
     "name": "stdout",
     "output_type": "stream",
     "text": [
      "23\n"
     ]
    }
   ],
   "source": [
    "#15.\n",
    "ls=[1,3,4,15]\n",
    "print(sum(ls))"
   ]
  },
  {
   "cell_type": "code",
   "execution_count": 68,
   "id": "7590969f",
   "metadata": {},
   "outputs": [
    {
     "name": "stdout",
     "output_type": "stream",
     "text": [
      "15\n"
     ]
    }
   ],
   "source": [
    "#16.\n",
    "ls=[1,3,4,15]\n",
    "print(max(ls))"
   ]
  },
  {
   "cell_type": "code",
   "execution_count": 69,
   "id": "cf407e6b",
   "metadata": {},
   "outputs": [
    {
     "name": "stdout",
     "output_type": "stream",
     "text": [
      "1\n"
     ]
    }
   ],
   "source": [
    "#17.\n",
    "ls=[1,3,4,15]\n",
    "print(min(ls))"
   ]
  },
  {
   "cell_type": "code",
   "execution_count": 70,
   "id": "0d4b3cc3",
   "metadata": {},
   "outputs": [
    {
     "name": "stdout",
     "output_type": "stream",
     "text": [
      "[1, 4, 9, 16, 25, 36, 49, 64, 81, 100]\n"
     ]
    }
   ],
   "source": [
    "#18.\n",
    "k=[i**2 for i in range(1,11)]\n",
    "print(k)"
   ]
  },
  {
   "cell_type": "code",
   "execution_count": 71,
   "id": "bfda45d0",
   "metadata": {},
   "outputs": [
    {
     "name": "stdout",
     "output_type": "stream",
     "text": [
      "[29, 48, 38, 9, 2, 31, 47, 17, 41, 43]\n"
     ]
    }
   ],
   "source": [
    "#19.\n",
    "import random as rand\n",
    "k=[rand.randint(1,50) for i in range(10)]\n",
    "print(k)"
   ]
  },
  {
   "cell_type": "code",
   "execution_count": 72,
   "id": "fdf4594f",
   "metadata": {},
   "outputs": [
    {
     "name": "stdout",
     "output_type": "stream",
     "text": [
      "[1, 2, 3, 4]\n"
     ]
    }
   ],
   "source": [
    "#20. \n",
    "ls=[2,3,4,2,3,4,1]\n",
    "k=set(ls)\n",
    "print(list(k))"
   ]
  },
  {
   "cell_type": "code",
   "execution_count": 73,
   "id": "ce125b56",
   "metadata": {},
   "outputs": [
    {
     "data": {
      "text/plain": [
       "{1, 2, 3, 4, 5, 6}"
      ]
     },
     "execution_count": 73,
     "metadata": {},
     "output_type": "execute_result"
    }
   ],
   "source": [
    "#21.\n",
    "ls1=set([2,3,4,1,5,6])\n",
    "ls2=set([2,4,5,3,6,1,7])\n",
    "ls1.intersection(ls2)\n"
   ]
  },
  {
   "cell_type": "code",
   "execution_count": 74,
   "id": "62893b2c",
   "metadata": {},
   "outputs": [
    {
     "name": "stdout",
     "output_type": "stream",
     "text": [
      "[8, 9]\n"
     ]
    }
   ],
   "source": [
    "#22.\n",
    "ls1=set([2,3,4,1,5,6,8,9])\n",
    "ls2=set([2,4,5,3,6,1,7])\n",
    "k=list(ls1.difference(ls2))\n",
    "print(k)"
   ]
  },
  {
   "cell_type": "code",
   "execution_count": 75,
   "id": "60194c16",
   "metadata": {},
   "outputs": [
    {
     "name": "stdout",
     "output_type": "stream",
     "text": [
      "[1, 2, 3, 4, 5, 7, 8, 9, 0, 2]\n"
     ]
    }
   ],
   "source": [
    "#23.\n",
    "ls1=[1,2,3,4,5]\n",
    "ls2=[7,8,9,0,2]\n",
    "m=ls1+ls2\n",
    "print(m)"
   ]
  },
  {
   "cell_type": "code",
   "execution_count": 76,
   "id": "9e2a87e1",
   "metadata": {},
   "outputs": [
    {
     "name": "stdout",
     "output_type": "stream",
     "text": [
      "[2, 4, 6, 8, 10]\n"
     ]
    }
   ],
   "source": [
    "#24.\n",
    "ls=[1,2,3,4,5]\n",
    "ls2=[]\n",
    "for i in ls:\n",
    "    ls2.append(i*2)\n",
    "print(ls2)\n"
   ]
  },
  {
   "cell_type": "code",
   "execution_count": 77,
   "id": "d2c46739",
   "metadata": {},
   "outputs": [
    {
     "name": "stdout",
     "output_type": "stream",
     "text": [
      "[2, 4, 8]\n"
     ]
    }
   ],
   "source": [
    "#25.\n",
    "ls=[1,2,4,8,5,7]\n",
    "k=[]\n",
    "for i in ls:\n",
    "    if i%2==0:\n",
    "        k.append(i)\n",
    "print(k)"
   ]
  },
  {
   "cell_type": "code",
   "execution_count": 78,
   "id": "37af6f9a",
   "metadata": {},
   "outputs": [
    {
     "name": "stdout",
     "output_type": "stream",
     "text": [
      "[1, 2, 3, 5, 6, 7, 8]\n"
     ]
    }
   ],
   "source": [
    "#26.\n",
    "ls=['1','2','3','5','6','7','8']\n",
    "k=[]\n",
    "for i in ls:\n",
    "    k.append(int(i))\n",
    "print(k)"
   ]
  },
  {
   "cell_type": "code",
   "execution_count": 79,
   "id": "249858fd",
   "metadata": {},
   "outputs": [
    {
     "name": "stdout",
     "output_type": "stream",
     "text": [
      "['1', '2', '3', '4', '5', '6', '7', '8', '9', '10']\n"
     ]
    }
   ],
   "source": [
    "#27.\n",
    "ls=[str(i) for i in range(1,11)]\n",
    "print(ls)"
   ]
  },
  {
   "cell_type": "code",
   "execution_count": 80,
   "id": "00b005d6",
   "metadata": {},
   "outputs": [
    {
     "name": "stdout",
     "output_type": "stream",
     "text": [
      "[1, 2, 3, 4, 5, 8, 9, 0]\n"
     ]
    }
   ],
   "source": [
    "#28.\n",
    "ls=[[1,2,3],4,5,[8,9,0]]\n",
    "k=[]\n",
    "for i in ls:\n",
    "    if type(i)==list:\n",
    "        for j in i:\n",
    "            k.append(j)\n",
    "    else:\n",
    "        k.append(i)\n",
    "print(k)"
   ]
  },
  {
   "cell_type": "code",
   "execution_count": 81,
   "id": "36b1c0a5",
   "metadata": {},
   "outputs": [
    {
     "name": "stdout",
     "output_type": "stream",
     "text": [
      "[1, 1, 2, 3, 5, 8, 13, 21, 34, 55]\n"
     ]
    }
   ],
   "source": [
    "#29.\n",
    "a=1\n",
    "b=0\n",
    "k=[]\n",
    "k.append(a)\n",
    "lst=[]\n",
    "for i in range(9):\n",
    "    a=a+b\n",
    "    k.append(a)\n",
    "    b=a-b\n",
    "print(k)"
   ]
  },
  {
   "cell_type": "code",
   "execution_count": 82,
   "id": "65f86826",
   "metadata": {},
   "outputs": [
    {
     "name": "stdout",
     "output_type": "stream",
     "text": [
      "not in sorted order\n"
     ]
    }
   ],
   "source": [
    "#30.\n",
    "l=[1,2,3,4,5,6]\n",
    "l1=[2,1,3,5,4,7,6]\n",
    "j=0\n",
    "count=0\n",
    "for i in l1:\n",
    "    if j<=i:\n",
    "        j=i\n",
    "        count=count+1\n",
    "    else:\n",
    "        break\n",
    "if count==len(l):\n",
    "    print('its in sorted order')\n",
    "else:\n",
    "    print('not in sorted order')"
   ]
  },
  {
   "cell_type": "code",
   "execution_count": 83,
   "id": "c76eec32",
   "metadata": {},
   "outputs": [
    {
     "name": "stdout",
     "output_type": "stream",
     "text": [
      "[2, 5, 3, 8, 7, 1, 1]\n"
     ]
    }
   ],
   "source": [
    "#31.\n",
    "ls=[1,1,2,5,3,8,7]\n",
    "num=2\n",
    "output_list=[]\n",
    "for i in range(num,len(ls)):\n",
    "    output_list.append(ls[i])\n",
    "for i in range(num):\n",
    "    output_list.append(ls[i])\n",
    "print(output_list)"
   ]
  },
  {
   "cell_type": "code",
   "execution_count": 84,
   "id": "d7ed749e",
   "metadata": {},
   "outputs": [
    {
     "name": "stdout",
     "output_type": "stream",
     "text": [
      "[8, 7, 1, 2, 5, 3]\n"
     ]
    }
   ],
   "source": [
    "#32.\n",
    "ls=[1,2,5,3,8,7]\n",
    "new_list=[]\n",
    "num=2\n",
    "for i in range(len(ls)-num,len(ls)):\n",
    "    new_list.append(ls[i])\n",
    "for j in range(0,len(ls)-num):\n",
    "    new_list.append(ls[j])\n",
    "print(new_list)"
   ]
  },
  {
   "cell_type": "code",
   "execution_count": 85,
   "id": "82b0c9ed",
   "metadata": {},
   "outputs": [
    {
     "name": "stdout",
     "output_type": "stream",
     "text": [
      "[1, 2, 3, 5, 7, 11, 13, 17, 19, 23, 29, 31, 37, 41, 43, 47]\n"
     ]
    }
   ],
   "source": [
    "#33.\n",
    "new_list=[]\n",
    "no=50\n",
    "count=0\n",
    "for j in range(1,no+1):\n",
    "    \n",
    "    for i in range(1,j+1):\n",
    "        if j%i==0:\n",
    "            count=count+1\n",
    "    if count<=2:\n",
    "        new_list.append(j)\n",
    "    count=0\n",
    "print(new_list)\n"
   ]
  },
  {
   "cell_type": "code",
   "execution_count": 86,
   "id": "19ece8b7",
   "metadata": {},
   "outputs": [
    {
     "name": "stdout",
     "output_type": "stream",
     "text": [
      "[1, 2, 3, 5, 7, 11, 13, 17, 19, 23, 29, 31, 37, 41, 43, 47]\n"
     ]
    }
   ],
   "source": [
    "#best approcah to solve prime number in o(n)\n",
    "num=50\n",
    "new_list=[1,2,3,5,7]\n",
    "for i in range(9,num+1):\n",
    "    if i%2!=0 and i%3!=0 and i%5!=0 and i%7!=0:\n",
    "        new_list.append(i)\n",
    "print(new_list)"
   ]
  },
  {
   "cell_type": "code",
   "execution_count": 87,
   "id": "9cac866e",
   "metadata": {},
   "outputs": [
    {
     "name": "stdout",
     "output_type": "stream",
     "text": [
      "[[1, 2], [3, 4], [5, 6], [7, 8]]\n"
     ]
    }
   ],
   "source": [
    "#34  \n",
    "n=4\n",
    "ls=[1,2,3,4,5,6,7,8,9,10]\n",
    "new_list=[]\n",
    "s=len(ls)//n # first divided by n for extracting a no of elements from the list\n",
    "i=0\n",
    "j=0\n",
    "while i<n:\n",
    "    new_list.append(ls[j:j+s])      #In this line we extrat a sequence of elements from that element\n",
    "    j=j+s       #then we add for update a j value\n",
    "    i=i+1\n",
    "print(new_list)"
   ]
  },
  {
   "cell_type": "code",
   "execution_count": null,
   "id": "1eac3919",
   "metadata": {},
   "outputs": [],
   "source": [
    "#35.\n",
    "ls=[2,1,3,7,4,9,10,3,99,54,23,69]\n",
    "ls.remove(max(ls))\n",
    "print(max(ls))"
   ]
  },
  {
   "cell_type": "code",
   "execution_count": null,
   "id": "0fb8283b",
   "metadata": {},
   "outputs": [],
   "source": []
  }
 ],
 "metadata": {
  "kernelspec": {
   "display_name": "Python 3 (ipykernel)",
   "language": "python",
   "name": "python3"
  },
  "language_info": {
   "codemirror_mode": {
    "name": "ipython",
    "version": 3
   },
   "file_extension": ".py",
   "mimetype": "text/x-python",
   "name": "python",
   "nbconvert_exporter": "python",
   "pygments_lexer": "ipython3",
   "version": "3.11.4"
  }
 },
 "nbformat": 4,
 "nbformat_minor": 5
}
